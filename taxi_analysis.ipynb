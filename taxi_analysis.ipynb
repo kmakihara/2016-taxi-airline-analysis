{
 "cells": [
  {
   "cell_type": "code",
   "execution_count": 1,
   "metadata": {
    "collapsed": false
   },
   "outputs": [],
   "source": [
    "from collections import Counter\n",
    "from ast import literal_eval as make_tuple\n",
    "from pyproj import Proj, transform\n",
    "from shapely.geometry import shape, Point\n",
    "\n",
    "import shapefile\n",
    "import json\n",
    "import pandas as pd\n",
    "import numpy as np\n",
    "import matplotlib.pyplot as plt, mpld3\n",
    "import csv\n",
    "mpld3.enable_notebook()"
   ]
  },
  {
   "cell_type": "code",
   "execution_count": 2,
   "metadata": {
    "collapsed": true
   },
   "outputs": [],
   "source": [
    "newark_coordinates = {\n",
    "    'terminal_a': [40.687794, -74.182307],\n",
    "    'terminal_b': [40.690627, -74.177544],\n",
    "    'terminal_c': [40.695558, -74.178063]\n",
    "}\n",
    "\n",
    "laguardia_coordinates = {\n",
    "    'terminal_a': [40.772375, -73.885976],\n",
    "    'terminal_b': [40.774444, -73.872006],\n",
    "    'terminal_c': [40.770674, -73.865307],\n",
    "    'terminal_d': [40.768628, -73.862134]\n",
    "}\n",
    "\n",
    "jfk_coordinates = {\n",
    "    'terminal_1': [40.643325, -73.789939],\n",
    "    'terminal_2': [40.641595, -73.788767],\n",
    "    'terminal_4': [40.644193, -73.782554],\n",
    "    'terminal_5': [40.645807, -73.776774],\n",
    "    'terminal_7': [40.648798, -73.782922],\n",
    "    'terminal_8': [40.646934, -73.789874]\n",
    "}"
   ]
  },
  {
   "cell_type": "code",
   "execution_count": 3,
   "metadata": {
    "collapsed": false
   },
   "outputs": [],
   "source": [
    "jfk_green_dropoffs = pd.DataFrame.from_csv('./2016/modified/mod-tlc-green-jfk-dropoffs-2016.csv')\n",
    "jfk_yellow_dropoffs = pd.DataFrame.from_csv('./2016/modified/mod-tlc-yellow-jfk-dropoffs-2016.csv')\n",
    "newark_green_dropoffs = pd.DataFrame.from_csv('./2016/modified/mod-tlc-green-newark-dropoffs-2016.csv')\n",
    "newark_yellow_dropoffs = pd.DataFrame.from_csv('./2016/modified/mod-tlc-yellow-newark-dropoffs-2016.csv')\n",
    "laguardia_green_dropoffs = pd.DataFrame.from_csv('./2016/modified/mod-tlc-green-laguardia-dropoffs-2016.csv')\n",
    "laguardia_yellow_dropoffs = pd.DataFrame.from_csv('./2016/modified/mod-tlc-yellow-laguardia-dropoffs-2016.csv')"
   ]
  },
  {
   "cell_type": "code",
   "execution_count": 4,
   "metadata": {
    "collapsed": true
   },
   "outputs": [],
   "source": [
    "sf = shapefile.Reader(\"taxi_zones/taxi_zones\")\n",
    "shapes = sf.shapes()"
   ]
  },
  {
   "cell_type": "code",
   "execution_count": 5,
   "metadata": {
    "collapsed": true
   },
   "outputs": [],
   "source": [
    "NEWARK_ID = 1\n",
    "LAGUARDIA_ID = 138\n",
    "JFK_ID = 132"
   ]
  },
  {
   "cell_type": "code",
   "execution_count": 11,
   "metadata": {
    "collapsed": true
   },
   "outputs": [],
   "source": [
    "def check_bounds(raw_coords, shapefile):\n",
    "    in_proj = Proj(init='epsg:4326')\n",
    "    out_proj= Proj(init='epsg:2263', preserve_units = True)\n",
    "    coords = make_tuple(raw_coords)\n",
    "    \n",
    "    point = Point(transform(in_proj, out_proj, coords[1], coords[0]))\n",
    "    polygon = shape(shapefile)\n",
    "    return polygon.contains(point)"
   ]
  },
  {
   "cell_type": "code",
   "execution_count": 12,
   "metadata": {
    "collapsed": false,
    "scrolled": true
   },
   "outputs": [],
   "source": [
    "newark_yellow_filter = newark_yellow_dropoffs['coords'].apply(check_bounds, args=(shapes[NEWARK_ID - 1],))"
   ]
  },
  {
   "cell_type": "code",
   "execution_count": 13,
   "metadata": {
    "collapsed": true
   },
   "outputs": [],
   "source": [
    "newark_green_filter = newark_green_dropoffs['coords'].apply(check_bounds, args=(shapes[NEWARK_ID - 1],))"
   ]
  },
  {
   "cell_type": "code",
   "execution_count": 14,
   "metadata": {
    "collapsed": false
   },
   "outputs": [],
   "source": [
    "laguardia_green_filter = laguardia_green_dropoffs['coords'].apply(check_bounds, args=(shapes[LAGUARDIA_ID - 1],))"
   ]
  },
  {
   "cell_type": "code",
   "execution_count": 26,
   "metadata": {
    "collapsed": false,
    "scrolled": true
   },
   "outputs": [],
   "source": [
    "laguardia_yellow_filter = laguardia_yellow_dropoffs['coords'].apply(check_bounds, args=(shapes[LAGUARDIA_ID - 1],))"
   ]
  },
  {
   "cell_type": "code",
   "execution_count": 27,
   "metadata": {
    "collapsed": false,
    "scrolled": true
   },
   "outputs": [],
   "source": [
    "jfk_green_filter = jfk_green_dropoffs['coords'].apply(check_bounds, args=(shapes[JFK_ID - 1],))"
   ]
  },
  {
   "cell_type": "code",
   "execution_count": 28,
   "metadata": {
    "collapsed": false,
    "scrolled": false
   },
   "outputs": [],
   "source": [
    "jfk_yellow_filter = jfk_yellow_dropoffs['coords'].apply(check_bounds, args=(shapes[JFK_ID - 1],))"
   ]
  },
  {
   "cell_type": "code",
   "execution_count": 29,
   "metadata": {
    "collapsed": false,
    "scrolled": true
   },
   "outputs": [],
   "source": [
    "newark_yellow_dropoffs = newark_yellow_dropoffs.loc[newark_yellow_filter]\n",
    "newark_green_dropoffs = newark_green_dropoffs.loc[newark_green_filter]\n",
    "laguardia_yellow_dropoffs = laguardia_yellow_dropoffs.loc[laguardia_yellow_filter]\n",
    "laguardia_green_dropoffs = laguardia_green_dropoffs.loc[laguardia_green_filter]\n",
    "jfk_yellow_dropoffs = jfk_yellow_dropoffs.loc[jfk_yellow_filter]\n",
    "jfk_green_dropoffs = jfk_green_dropoffs.loc[jfk_green_filter]"
   ]
  },
  {
   "cell_type": "code",
   "execution_count": null,
   "metadata": {
    "collapsed": true
   },
   "outputs": [],
   "source": [
    "jfk_green_dropoffs.to_csv('./2016/modified/mod-tlc-green-jfk-dropoffs-2016.csv')\n",
    "jfk_yellow_dropoffs.to_csv('./2016/modified/mod-tlc-yellow-jfk-dropoffs-2016.csv')\n",
    "newark_green_dropoffs.to_csv('./2016/modified/mod-tlc-green-newark-dropoffs-2016.csv')\n",
    "newark_yellow_dropoffs.to_csv('./2016/modified/mod-tlc-yellow-newark-dropoffs-2016.csv')\n",
    "laguardia_green_dropoffs.to_csv('./2016/modified/mod-tlc-green-laguardia-dropoffs-2016.csv')\n",
    "laguardia_yellow_dropoffs.to_csv('./2016/modified/mod-tlc-yellow-laguardia-dropoffs-2016.csv')"
   ]
  },
  {
   "cell_type": "code",
   "execution_count": 4,
   "metadata": {
    "collapsed": false
   },
   "outputs": [
    {
     "data": {
      "text/plain": [
       "1729401"
      ]
     },
     "execution_count": 4,
     "metadata": {},
     "output_type": "execute_result"
    }
   ],
   "source": [
    "total_count = len(jfk_green_dropoffs) + len(jfk_yellow_dropoffs) + len(newark_green_dropoffs) + len(newark_yellow_dropoffs) \\\n",
    "+ len(laguardia_green_dropoffs) + len(laguardia_yellow_dropoffs)\n",
    "total_count"
   ]
  },
  {
   "cell_type": "code",
   "execution_count": 7,
   "metadata": {
    "collapsed": false
   },
   "outputs": [],
   "source": [
    "def count_passengers(df):\n",
    "    terminal_counts = pd.Series(np.zeros(len(df['terminal'].unique())), index=df['terminal'].unique(), name='terminal')\n",
    "    for _, dropoff in df.iterrows():\n",
    "        if not np.isnan(dropoff['passenger_count']):\n",
    "            terminal_counts[dropoff['terminal']] += dropoff['passenger_count']\n",
    "        else:\n",
    "            terminal_counts[dropoff['terminal']] += 1\n",
    "    return terminal_counts"
   ]
  },
  {
   "cell_type": "code",
   "execution_count": 8,
   "metadata": {
    "collapsed": false,
    "scrolled": true
   },
   "outputs": [],
   "source": [
    "newark_yellow_terminal_counts = count_passengers(newark_yellow_dropoffs)"
   ]
  },
  {
   "cell_type": "code",
   "execution_count": 9,
   "metadata": {
    "collapsed": false,
    "scrolled": false
   },
   "outputs": [],
   "source": [
    "newark_green_terminal_counts = count_passengers(newark_green_dropoffs)"
   ]
  },
  {
   "cell_type": "code",
   "execution_count": 10,
   "metadata": {
    "collapsed": false
   },
   "outputs": [],
   "source": [
    "total_newark_counts = newark_green_terminal_counts + newark_yellow_terminal_counts"
   ]
  },
  {
   "cell_type": "code",
   "execution_count": null,
   "metadata": {
    "collapsed": true
   },
   "outputs": [],
   "source": []
  },
  {
   "cell_type": "code",
   "execution_count": 11,
   "metadata": {
    "collapsed": false,
    "scrolled": false
   },
   "outputs": [
    {
     "data": {
      "text/plain": [
       "terminal_c    106524.0\n",
       "terminal_b     50910.0\n",
       "terminal_a     49529.0\n",
       "Name: terminal, dtype: float64"
      ]
     },
     "execution_count": 11,
     "metadata": {},
     "output_type": "execute_result"
    }
   ],
   "source": [
    "total_newark_counts"
   ]
  },
  {
   "cell_type": "code",
   "execution_count": 252,
   "metadata": {
    "collapsed": false,
    "scrolled": false
   },
   "outputs": [
    {
     "data": {
      "text/html": [
       "\n",
       "\n",
       "<style>\n",
       "\n",
       "</style>\n",
       "\n",
       "<div id=\"fig_el5326253913682728201634964\"></div>\n",
       "<script>\n",
       "function mpld3_load_lib(url, callback){\n",
       "  var s = document.createElement('script');\n",
       "  s.src = url;\n",
       "  s.async = true;\n",
       "  s.onreadystatechange = s.onload = callback;\n",
       "  s.onerror = function(){console.warn(\"failed to load library \" + url);};\n",
       "  document.getElementsByTagName(\"head\")[0].appendChild(s);\n",
       "}\n",
       "\n",
       "if(typeof(mpld3) !== \"undefined\" && mpld3._mpld3IsLoaded){\n",
       "   // already loaded: just create the figure\n",
       "   !function(mpld3){\n",
       "       \n",
       "       mpld3.draw_figure(\"fig_el5326253913682728201634964\", {\"axes\": [{\"xlim\": [-0.5, 2.5], \"yscale\": \"linear\", \"axesbg\": \"#FFFFFF\", \"texts\": [], \"zoomable\": true, \"images\": [], \"xdomain\": [-0.5, 2.5], \"ylim\": [0.0, 120000.0], \"paths\": [{\"edgecolor\": \"#000000\", \"facecolor\": \"#0000FF\", \"edgewidth\": 1.0, \"pathcodes\": [\"M\", \"L\", \"L\", \"L\", \"Z\"], \"yindex\": 1, \"coordinates\": \"data\", \"dasharray\": \"none\", \"zorder\": 1, \"alpha\": 1, \"xindex\": 0, \"data\": \"data01\", \"id\": \"el532625297302416\"}, {\"edgecolor\": \"#000000\", \"facecolor\": \"#0000FF\", \"edgewidth\": 1.0, \"pathcodes\": [\"M\", \"L\", \"L\", \"L\", \"Z\"], \"yindex\": 1, \"coordinates\": \"data\", \"dasharray\": \"none\", \"zorder\": 1, \"alpha\": 1, \"xindex\": 0, \"data\": \"data02\", \"id\": \"el532625404452496\"}, {\"edgecolor\": \"#000000\", \"facecolor\": \"#0000FF\", \"edgewidth\": 1.0, \"pathcodes\": [\"M\", \"L\", \"L\", \"L\", \"Z\"], \"yindex\": 1, \"coordinates\": \"data\", \"dasharray\": \"none\", \"zorder\": 1, \"alpha\": 1, \"xindex\": 0, \"data\": \"data03\", \"id\": \"el532625402326992\"}], \"sharey\": [], \"sharex\": [], \"axesbgalpha\": null, \"axes\": [{\"scale\": \"linear\", \"tickformat\": [\"terminal_c\", \"terminal_b\", \"terminal_a\"], \"grid\": {\"gridOn\": false}, \"visible\": true, \"fontsize\": 12.0, \"position\": \"bottom\", \"nticks\": 3, \"tickvalues\": [0, 1, 2]}, {\"scale\": \"linear\", \"tickformat\": null, \"grid\": {\"gridOn\": false}, \"visible\": true, \"fontsize\": 12.0, \"position\": \"left\", \"nticks\": 7, \"tickvalues\": null}], \"lines\": [], \"markers\": [], \"id\": \"el532625404464464\", \"ydomain\": [0.0, 120000.0], \"collections\": [], \"xscale\": \"linear\", \"bbox\": [0.125, 0.099999999999999978, 0.77500000000000002, 0.80000000000000004]}], \"height\": 480.0, \"width\": 640.0, \"plugins\": [{\"type\": \"reset\"}, {\"enabled\": false, \"button\": true, \"type\": \"zoom\"}, {\"enabled\": false, \"button\": true, \"type\": \"boxzoom\"}], \"data\": {\"data02\": [[0.75, 0.0], [1.25, 0.0], [1.25, 50910.0], [0.75, 50910.0]], \"data03\": [[1.75, 0.0], [2.25, 0.0], [2.25, 49529.0], [1.75, 49529.0]], \"data01\": [[-0.25, 0.0], [0.25, 0.0], [0.25, 106524.0], [-0.25, 106524.0]]}, \"id\": \"el532625391368272\"});\n",
       "   }(mpld3);\n",
       "}else if(typeof define === \"function\" && define.amd){\n",
       "   // require.js is available: use it to load d3/mpld3\n",
       "   require.config({paths: {d3: \"https://mpld3.github.io/js/d3.v3.min\"}});\n",
       "   require([\"d3\"], function(d3){\n",
       "      window.d3 = d3;\n",
       "      mpld3_load_lib(\"https://mpld3.github.io/js/mpld3.v0.3.js\", function(){\n",
       "         \n",
       "         mpld3.draw_figure(\"fig_el5326253913682728201634964\", {\"axes\": [{\"xlim\": [-0.5, 2.5], \"yscale\": \"linear\", \"axesbg\": \"#FFFFFF\", \"texts\": [], \"zoomable\": true, \"images\": [], \"xdomain\": [-0.5, 2.5], \"ylim\": [0.0, 120000.0], \"paths\": [{\"edgecolor\": \"#000000\", \"facecolor\": \"#0000FF\", \"edgewidth\": 1.0, \"pathcodes\": [\"M\", \"L\", \"L\", \"L\", \"Z\"], \"yindex\": 1, \"coordinates\": \"data\", \"dasharray\": \"none\", \"zorder\": 1, \"alpha\": 1, \"xindex\": 0, \"data\": \"data01\", \"id\": \"el532625297302416\"}, {\"edgecolor\": \"#000000\", \"facecolor\": \"#0000FF\", \"edgewidth\": 1.0, \"pathcodes\": [\"M\", \"L\", \"L\", \"L\", \"Z\"], \"yindex\": 1, \"coordinates\": \"data\", \"dasharray\": \"none\", \"zorder\": 1, \"alpha\": 1, \"xindex\": 0, \"data\": \"data02\", \"id\": \"el532625404452496\"}, {\"edgecolor\": \"#000000\", \"facecolor\": \"#0000FF\", \"edgewidth\": 1.0, \"pathcodes\": [\"M\", \"L\", \"L\", \"L\", \"Z\"], \"yindex\": 1, \"coordinates\": \"data\", \"dasharray\": \"none\", \"zorder\": 1, \"alpha\": 1, \"xindex\": 0, \"data\": \"data03\", \"id\": \"el532625402326992\"}], \"sharey\": [], \"sharex\": [], \"axesbgalpha\": null, \"axes\": [{\"scale\": \"linear\", \"tickformat\": [\"terminal_c\", \"terminal_b\", \"terminal_a\"], \"grid\": {\"gridOn\": false}, \"visible\": true, \"fontsize\": 12.0, \"position\": \"bottom\", \"nticks\": 3, \"tickvalues\": [0, 1, 2]}, {\"scale\": \"linear\", \"tickformat\": null, \"grid\": {\"gridOn\": false}, \"visible\": true, \"fontsize\": 12.0, \"position\": \"left\", \"nticks\": 7, \"tickvalues\": null}], \"lines\": [], \"markers\": [], \"id\": \"el532625404464464\", \"ydomain\": [0.0, 120000.0], \"collections\": [], \"xscale\": \"linear\", \"bbox\": [0.125, 0.099999999999999978, 0.77500000000000002, 0.80000000000000004]}], \"height\": 480.0, \"width\": 640.0, \"plugins\": [{\"type\": \"reset\"}, {\"enabled\": false, \"button\": true, \"type\": \"zoom\"}, {\"enabled\": false, \"button\": true, \"type\": \"boxzoom\"}], \"data\": {\"data02\": [[0.75, 0.0], [1.25, 0.0], [1.25, 50910.0], [0.75, 50910.0]], \"data03\": [[1.75, 0.0], [2.25, 0.0], [2.25, 49529.0], [1.75, 49529.0]], \"data01\": [[-0.25, 0.0], [0.25, 0.0], [0.25, 106524.0], [-0.25, 106524.0]]}, \"id\": \"el532625391368272\"});\n",
       "      });\n",
       "    });\n",
       "}else{\n",
       "    // require.js not available: dynamically load d3 & mpld3\n",
       "    mpld3_load_lib(\"https://mpld3.github.io/js/d3.v3.min.js\", function(){\n",
       "         mpld3_load_lib(\"https://mpld3.github.io/js/mpld3.v0.3.js\", function(){\n",
       "                 \n",
       "                 mpld3.draw_figure(\"fig_el5326253913682728201634964\", {\"axes\": [{\"xlim\": [-0.5, 2.5], \"yscale\": \"linear\", \"axesbg\": \"#FFFFFF\", \"texts\": [], \"zoomable\": true, \"images\": [], \"xdomain\": [-0.5, 2.5], \"ylim\": [0.0, 120000.0], \"paths\": [{\"edgecolor\": \"#000000\", \"facecolor\": \"#0000FF\", \"edgewidth\": 1.0, \"pathcodes\": [\"M\", \"L\", \"L\", \"L\", \"Z\"], \"yindex\": 1, \"coordinates\": \"data\", \"dasharray\": \"none\", \"zorder\": 1, \"alpha\": 1, \"xindex\": 0, \"data\": \"data01\", \"id\": \"el532625297302416\"}, {\"edgecolor\": \"#000000\", \"facecolor\": \"#0000FF\", \"edgewidth\": 1.0, \"pathcodes\": [\"M\", \"L\", \"L\", \"L\", \"Z\"], \"yindex\": 1, \"coordinates\": \"data\", \"dasharray\": \"none\", \"zorder\": 1, \"alpha\": 1, \"xindex\": 0, \"data\": \"data02\", \"id\": \"el532625404452496\"}, {\"edgecolor\": \"#000000\", \"facecolor\": \"#0000FF\", \"edgewidth\": 1.0, \"pathcodes\": [\"M\", \"L\", \"L\", \"L\", \"Z\"], \"yindex\": 1, \"coordinates\": \"data\", \"dasharray\": \"none\", \"zorder\": 1, \"alpha\": 1, \"xindex\": 0, \"data\": \"data03\", \"id\": \"el532625402326992\"}], \"sharey\": [], \"sharex\": [], \"axesbgalpha\": null, \"axes\": [{\"scale\": \"linear\", \"tickformat\": [\"terminal_c\", \"terminal_b\", \"terminal_a\"], \"grid\": {\"gridOn\": false}, \"visible\": true, \"fontsize\": 12.0, \"position\": \"bottom\", \"nticks\": 3, \"tickvalues\": [0, 1, 2]}, {\"scale\": \"linear\", \"tickformat\": null, \"grid\": {\"gridOn\": false}, \"visible\": true, \"fontsize\": 12.0, \"position\": \"left\", \"nticks\": 7, \"tickvalues\": null}], \"lines\": [], \"markers\": [], \"id\": \"el532625404464464\", \"ydomain\": [0.0, 120000.0], \"collections\": [], \"xscale\": \"linear\", \"bbox\": [0.125, 0.099999999999999978, 0.77500000000000002, 0.80000000000000004]}], \"height\": 480.0, \"width\": 640.0, \"plugins\": [{\"type\": \"reset\"}, {\"enabled\": false, \"button\": true, \"type\": \"zoom\"}, {\"enabled\": false, \"button\": true, \"type\": \"boxzoom\"}], \"data\": {\"data02\": [[0.75, 0.0], [1.25, 0.0], [1.25, 50910.0], [0.75, 50910.0]], \"data03\": [[1.75, 0.0], [2.25, 0.0], [2.25, 49529.0], [1.75, 49529.0]], \"data01\": [[-0.25, 0.0], [0.25, 0.0], [0.25, 106524.0], [-0.25, 106524.0]]}, \"id\": \"el532625391368272\"});\n",
       "            })\n",
       "         });\n",
       "}\n",
       "</script>"
      ],
      "text/plain": [
       "<IPython.core.display.HTML object>"
      ]
     },
     "execution_count": 252,
     "metadata": {},
     "output_type": "execute_result"
    }
   ],
   "source": [
    "plt = total_newark_counts.plot(kind='bar')\n",
    "mpld3.display()"
   ]
  },
  {
   "cell_type": "code",
   "execution_count": 253,
   "metadata": {
    "collapsed": true
   },
   "outputs": [],
   "source": [
    "laguardia_yellow_terminal_counts = count_passengers(laguardia_yellow_dropoffs)\n",
    "laguardia_green_terminal_counts = count_passengers(laguardia_green_dropoffs)\n",
    "total_laguardia_counts = laguardia_green_terminal_counts + laguardia_yellow_terminal_counts"
   ]
  },
  {
   "cell_type": "code",
   "execution_count": 256,
   "metadata": {
    "collapsed": false
   },
   "outputs": [
    {
     "data": {
      "text/plain": [
       "terminal_c    353063.0\n",
       "terminal_b    827711.0\n",
       "terminal_d    273830.0\n",
       "terminal_a     57285.0\n",
       "Name: terminal, dtype: float64"
      ]
     },
     "execution_count": 256,
     "metadata": {},
     "output_type": "execute_result"
    }
   ],
   "source": [
    "total_laguardia_counts"
   ]
  },
  {
   "cell_type": "code",
   "execution_count": 257,
   "metadata": {
    "collapsed": false
   },
   "outputs": [
    {
     "data": {
      "text/html": [
       "\n",
       "\n",
       "<style>\n",
       "\n",
       "</style>\n",
       "\n",
       "<div id=\"fig_el532625404490640124850717\"></div>\n",
       "<script>\n",
       "function mpld3_load_lib(url, callback){\n",
       "  var s = document.createElement('script');\n",
       "  s.src = url;\n",
       "  s.async = true;\n",
       "  s.onreadystatechange = s.onload = callback;\n",
       "  s.onerror = function(){console.warn(\"failed to load library \" + url);};\n",
       "  document.getElementsByTagName(\"head\")[0].appendChild(s);\n",
       "}\n",
       "\n",
       "if(typeof(mpld3) !== \"undefined\" && mpld3._mpld3IsLoaded){\n",
       "   // already loaded: just create the figure\n",
       "   !function(mpld3){\n",
       "       \n",
       "       mpld3.draw_figure(\"fig_el532625404490640124850717\", {\"axes\": [{\"xlim\": [-0.5, 3.5], \"yscale\": \"linear\", \"axesbg\": \"#FFFFFF\", \"texts\": [], \"zoomable\": true, \"images\": [], \"xdomain\": [-0.5, 3.5], \"ylim\": [0.0, 900000.0], \"paths\": [{\"edgecolor\": \"#000000\", \"facecolor\": \"#0000FF\", \"edgewidth\": 1.0, \"pathcodes\": [\"M\", \"L\", \"L\", \"L\", \"Z\"], \"yindex\": 1, \"coordinates\": \"data\", \"dasharray\": \"none\", \"zorder\": 1, \"alpha\": 1, \"xindex\": 0, \"data\": \"data01\", \"id\": \"el532624860250896\"}, {\"edgecolor\": \"#000000\", \"facecolor\": \"#0000FF\", \"edgewidth\": 1.0, \"pathcodes\": [\"M\", \"L\", \"L\", \"L\", \"Z\"], \"yindex\": 1, \"coordinates\": \"data\", \"dasharray\": \"none\", \"zorder\": 1, \"alpha\": 1, \"xindex\": 0, \"data\": \"data02\", \"id\": \"el532624719789648\"}, {\"edgecolor\": \"#000000\", \"facecolor\": \"#0000FF\", \"edgewidth\": 1.0, \"pathcodes\": [\"M\", \"L\", \"L\", \"L\", \"Z\"], \"yindex\": 1, \"coordinates\": \"data\", \"dasharray\": \"none\", \"zorder\": 1, \"alpha\": 1, \"xindex\": 0, \"data\": \"data03\", \"id\": \"el532624860198480\"}, {\"edgecolor\": \"#000000\", \"facecolor\": \"#0000FF\", \"edgewidth\": 1.0, \"pathcodes\": [\"M\", \"L\", \"L\", \"L\", \"Z\"], \"yindex\": 1, \"coordinates\": \"data\", \"dasharray\": \"none\", \"zorder\": 1, \"alpha\": 1, \"xindex\": 0, \"data\": \"data04\", \"id\": \"el532624860196816\"}], \"sharey\": [], \"sharex\": [], \"axesbgalpha\": null, \"axes\": [{\"scale\": \"linear\", \"tickformat\": [\"terminal_c\", \"terminal_b\", \"terminal_d\", \"terminal_a\"], \"grid\": {\"gridOn\": false}, \"visible\": true, \"fontsize\": 12.0, \"position\": \"bottom\", \"nticks\": 4, \"tickvalues\": [0, 1, 2, 3]}, {\"scale\": \"linear\", \"tickformat\": null, \"grid\": {\"gridOn\": false}, \"visible\": true, \"fontsize\": 12.0, \"position\": \"left\", \"nticks\": 10, \"tickvalues\": null}], \"lines\": [], \"markers\": [], \"id\": \"el532624953370064\", \"ydomain\": [0.0, 900000.0], \"collections\": [], \"xscale\": \"linear\", \"bbox\": [0.125, 0.099999999999999978, 0.77500000000000002, 0.80000000000000004]}], \"height\": 480.0, \"width\": 640.0, \"plugins\": [{\"type\": \"reset\"}, {\"enabled\": false, \"button\": true, \"type\": \"zoom\"}, {\"enabled\": false, \"button\": true, \"type\": \"boxzoom\"}], \"data\": {\"data04\": [[2.75, 0.0], [3.25, 0.0], [3.25, 57285.0], [2.75, 57285.0]], \"data02\": [[0.75, 0.0], [1.25, 0.0], [1.25, 827711.0], [0.75, 827711.0]], \"data03\": [[1.75, 0.0], [2.25, 0.0], [2.25, 273830.0], [1.75, 273830.0]], \"data01\": [[-0.25, 0.0], [0.25, 0.0], [0.25, 353063.0], [-0.25, 353063.0]]}, \"id\": \"el532625404490640\"});\n",
       "   }(mpld3);\n",
       "}else if(typeof define === \"function\" && define.amd){\n",
       "   // require.js is available: use it to load d3/mpld3\n",
       "   require.config({paths: {d3: \"https://mpld3.github.io/js/d3.v3.min\"}});\n",
       "   require([\"d3\"], function(d3){\n",
       "      window.d3 = d3;\n",
       "      mpld3_load_lib(\"https://mpld3.github.io/js/mpld3.v0.3.js\", function(){\n",
       "         \n",
       "         mpld3.draw_figure(\"fig_el532625404490640124850717\", {\"axes\": [{\"xlim\": [-0.5, 3.5], \"yscale\": \"linear\", \"axesbg\": \"#FFFFFF\", \"texts\": [], \"zoomable\": true, \"images\": [], \"xdomain\": [-0.5, 3.5], \"ylim\": [0.0, 900000.0], \"paths\": [{\"edgecolor\": \"#000000\", \"facecolor\": \"#0000FF\", \"edgewidth\": 1.0, \"pathcodes\": [\"M\", \"L\", \"L\", \"L\", \"Z\"], \"yindex\": 1, \"coordinates\": \"data\", \"dasharray\": \"none\", \"zorder\": 1, \"alpha\": 1, \"xindex\": 0, \"data\": \"data01\", \"id\": \"el532624860250896\"}, {\"edgecolor\": \"#000000\", \"facecolor\": \"#0000FF\", \"edgewidth\": 1.0, \"pathcodes\": [\"M\", \"L\", \"L\", \"L\", \"Z\"], \"yindex\": 1, \"coordinates\": \"data\", \"dasharray\": \"none\", \"zorder\": 1, \"alpha\": 1, \"xindex\": 0, \"data\": \"data02\", \"id\": \"el532624719789648\"}, {\"edgecolor\": \"#000000\", \"facecolor\": \"#0000FF\", \"edgewidth\": 1.0, \"pathcodes\": [\"M\", \"L\", \"L\", \"L\", \"Z\"], \"yindex\": 1, \"coordinates\": \"data\", \"dasharray\": \"none\", \"zorder\": 1, \"alpha\": 1, \"xindex\": 0, \"data\": \"data03\", \"id\": \"el532624860198480\"}, {\"edgecolor\": \"#000000\", \"facecolor\": \"#0000FF\", \"edgewidth\": 1.0, \"pathcodes\": [\"M\", \"L\", \"L\", \"L\", \"Z\"], \"yindex\": 1, \"coordinates\": \"data\", \"dasharray\": \"none\", \"zorder\": 1, \"alpha\": 1, \"xindex\": 0, \"data\": \"data04\", \"id\": \"el532624860196816\"}], \"sharey\": [], \"sharex\": [], \"axesbgalpha\": null, \"axes\": [{\"scale\": \"linear\", \"tickformat\": [\"terminal_c\", \"terminal_b\", \"terminal_d\", \"terminal_a\"], \"grid\": {\"gridOn\": false}, \"visible\": true, \"fontsize\": 12.0, \"position\": \"bottom\", \"nticks\": 4, \"tickvalues\": [0, 1, 2, 3]}, {\"scale\": \"linear\", \"tickformat\": null, \"grid\": {\"gridOn\": false}, \"visible\": true, \"fontsize\": 12.0, \"position\": \"left\", \"nticks\": 10, \"tickvalues\": null}], \"lines\": [], \"markers\": [], \"id\": \"el532624953370064\", \"ydomain\": [0.0, 900000.0], \"collections\": [], \"xscale\": \"linear\", \"bbox\": [0.125, 0.099999999999999978, 0.77500000000000002, 0.80000000000000004]}], \"height\": 480.0, \"width\": 640.0, \"plugins\": [{\"type\": \"reset\"}, {\"enabled\": false, \"button\": true, \"type\": \"zoom\"}, {\"enabled\": false, \"button\": true, \"type\": \"boxzoom\"}], \"data\": {\"data04\": [[2.75, 0.0], [3.25, 0.0], [3.25, 57285.0], [2.75, 57285.0]], \"data02\": [[0.75, 0.0], [1.25, 0.0], [1.25, 827711.0], [0.75, 827711.0]], \"data03\": [[1.75, 0.0], [2.25, 0.0], [2.25, 273830.0], [1.75, 273830.0]], \"data01\": [[-0.25, 0.0], [0.25, 0.0], [0.25, 353063.0], [-0.25, 353063.0]]}, \"id\": \"el532625404490640\"});\n",
       "      });\n",
       "    });\n",
       "}else{\n",
       "    // require.js not available: dynamically load d3 & mpld3\n",
       "    mpld3_load_lib(\"https://mpld3.github.io/js/d3.v3.min.js\", function(){\n",
       "         mpld3_load_lib(\"https://mpld3.github.io/js/mpld3.v0.3.js\", function(){\n",
       "                 \n",
       "                 mpld3.draw_figure(\"fig_el532625404490640124850717\", {\"axes\": [{\"xlim\": [-0.5, 3.5], \"yscale\": \"linear\", \"axesbg\": \"#FFFFFF\", \"texts\": [], \"zoomable\": true, \"images\": [], \"xdomain\": [-0.5, 3.5], \"ylim\": [0.0, 900000.0], \"paths\": [{\"edgecolor\": \"#000000\", \"facecolor\": \"#0000FF\", \"edgewidth\": 1.0, \"pathcodes\": [\"M\", \"L\", \"L\", \"L\", \"Z\"], \"yindex\": 1, \"coordinates\": \"data\", \"dasharray\": \"none\", \"zorder\": 1, \"alpha\": 1, \"xindex\": 0, \"data\": \"data01\", \"id\": \"el532624860250896\"}, {\"edgecolor\": \"#000000\", \"facecolor\": \"#0000FF\", \"edgewidth\": 1.0, \"pathcodes\": [\"M\", \"L\", \"L\", \"L\", \"Z\"], \"yindex\": 1, \"coordinates\": \"data\", \"dasharray\": \"none\", \"zorder\": 1, \"alpha\": 1, \"xindex\": 0, \"data\": \"data02\", \"id\": \"el532624719789648\"}, {\"edgecolor\": \"#000000\", \"facecolor\": \"#0000FF\", \"edgewidth\": 1.0, \"pathcodes\": [\"M\", \"L\", \"L\", \"L\", \"Z\"], \"yindex\": 1, \"coordinates\": \"data\", \"dasharray\": \"none\", \"zorder\": 1, \"alpha\": 1, \"xindex\": 0, \"data\": \"data03\", \"id\": \"el532624860198480\"}, {\"edgecolor\": \"#000000\", \"facecolor\": \"#0000FF\", \"edgewidth\": 1.0, \"pathcodes\": [\"M\", \"L\", \"L\", \"L\", \"Z\"], \"yindex\": 1, \"coordinates\": \"data\", \"dasharray\": \"none\", \"zorder\": 1, \"alpha\": 1, \"xindex\": 0, \"data\": \"data04\", \"id\": \"el532624860196816\"}], \"sharey\": [], \"sharex\": [], \"axesbgalpha\": null, \"axes\": [{\"scale\": \"linear\", \"tickformat\": [\"terminal_c\", \"terminal_b\", \"terminal_d\", \"terminal_a\"], \"grid\": {\"gridOn\": false}, \"visible\": true, \"fontsize\": 12.0, \"position\": \"bottom\", \"nticks\": 4, \"tickvalues\": [0, 1, 2, 3]}, {\"scale\": \"linear\", \"tickformat\": null, \"grid\": {\"gridOn\": false}, \"visible\": true, \"fontsize\": 12.0, \"position\": \"left\", \"nticks\": 10, \"tickvalues\": null}], \"lines\": [], \"markers\": [], \"id\": \"el532624953370064\", \"ydomain\": [0.0, 900000.0], \"collections\": [], \"xscale\": \"linear\", \"bbox\": [0.125, 0.099999999999999978, 0.77500000000000002, 0.80000000000000004]}], \"height\": 480.0, \"width\": 640.0, \"plugins\": [{\"type\": \"reset\"}, {\"enabled\": false, \"button\": true, \"type\": \"zoom\"}, {\"enabled\": false, \"button\": true, \"type\": \"boxzoom\"}], \"data\": {\"data04\": [[2.75, 0.0], [3.25, 0.0], [3.25, 57285.0], [2.75, 57285.0]], \"data02\": [[0.75, 0.0], [1.25, 0.0], [1.25, 827711.0], [0.75, 827711.0]], \"data03\": [[1.75, 0.0], [2.25, 0.0], [2.25, 273830.0], [1.75, 273830.0]], \"data01\": [[-0.25, 0.0], [0.25, 0.0], [0.25, 353063.0], [-0.25, 353063.0]]}, \"id\": \"el532625404490640\"});\n",
       "            })\n",
       "         });\n",
       "}\n",
       "</script>"
      ],
      "text/plain": [
       "<IPython.core.display.HTML object>"
      ]
     },
     "execution_count": 257,
     "metadata": {},
     "output_type": "execute_result"
    }
   ],
   "source": [
    "plt = total_laguardia_counts.plot(kind='bar')\n",
    "mpld3.display()"
   ]
  },
  {
   "cell_type": "code",
   "execution_count": 258,
   "metadata": {
    "collapsed": true
   },
   "outputs": [],
   "source": [
    "jfk_yellow_terminal_counts = count_passengers(jfk_yellow_dropoffs)\n",
    "jfk_green_terminal_counts = count_passengers(jfk_green_dropoffs)\n",
    "total_jfk_counts = jfk_green_terminal_counts + jfk_yellow_terminal_counts"
   ]
  },
  {
   "cell_type": "code",
   "execution_count": 262,
   "metadata": {
    "collapsed": false
   },
   "outputs": [
    {
     "data": {
      "text/html": [
       "\n",
       "\n",
       "<style>\n",
       "\n",
       "</style>\n",
       "\n",
       "<div id=\"fig_el5326249534965929926503417\"></div>\n",
       "<script>\n",
       "function mpld3_load_lib(url, callback){\n",
       "  var s = document.createElement('script');\n",
       "  s.src = url;\n",
       "  s.async = true;\n",
       "  s.onreadystatechange = s.onload = callback;\n",
       "  s.onerror = function(){console.warn(\"failed to load library \" + url);};\n",
       "  document.getElementsByTagName(\"head\")[0].appendChild(s);\n",
       "}\n",
       "\n",
       "if(typeof(mpld3) !== \"undefined\" && mpld3._mpld3IsLoaded){\n",
       "   // already loaded: just create the figure\n",
       "   !function(mpld3){\n",
       "       \n",
       "       mpld3.draw_figure(\"fig_el5326249534965929926503417\", {\"axes\": [{\"xlim\": [-0.5, 5.5], \"yscale\": \"linear\", \"axesbg\": \"#FFFFFF\", \"texts\": [], \"zoomable\": true, \"images\": [], \"xdomain\": [-0.5, 5.5], \"ylim\": [0.0, 350000.0], \"paths\": [{\"edgecolor\": \"#000000\", \"facecolor\": \"#0000FF\", \"edgewidth\": 1.0, \"pathcodes\": [\"M\", \"L\", \"L\", \"L\", \"Z\"], \"yindex\": 1, \"coordinates\": \"data\", \"dasharray\": \"none\", \"zorder\": 1, \"alpha\": 1, \"xindex\": 0, \"data\": \"data01\", \"id\": \"el532625402226256\"}, {\"edgecolor\": \"#000000\", \"facecolor\": \"#0000FF\", \"edgewidth\": 1.0, \"pathcodes\": [\"M\", \"L\", \"L\", \"L\", \"Z\"], \"yindex\": 1, \"coordinates\": \"data\", \"dasharray\": \"none\", \"zorder\": 1, \"alpha\": 1, \"xindex\": 0, \"data\": \"data02\", \"id\": \"el532624847488016\"}, {\"edgecolor\": \"#000000\", \"facecolor\": \"#0000FF\", \"edgewidth\": 1.0, \"pathcodes\": [\"M\", \"L\", \"L\", \"L\", \"Z\"], \"yindex\": 1, \"coordinates\": \"data\", \"dasharray\": \"none\", \"zorder\": 1, \"alpha\": 1, \"xindex\": 0, \"data\": \"data03\", \"id\": \"el532625367794256\"}, {\"edgecolor\": \"#000000\", \"facecolor\": \"#0000FF\", \"edgewidth\": 1.0, \"pathcodes\": [\"M\", \"L\", \"L\", \"L\", \"Z\"], \"yindex\": 1, \"coordinates\": \"data\", \"dasharray\": \"none\", \"zorder\": 1, \"alpha\": 1, \"xindex\": 0, \"data\": \"data04\", \"id\": \"el532625522696592\"}, {\"edgecolor\": \"#000000\", \"facecolor\": \"#0000FF\", \"edgewidth\": 1.0, \"pathcodes\": [\"M\", \"L\", \"L\", \"L\", \"Z\"], \"yindex\": 1, \"coordinates\": \"data\", \"dasharray\": \"none\", \"zorder\": 1, \"alpha\": 1, \"xindex\": 0, \"data\": \"data05\", \"id\": \"el532625522671504\"}, {\"edgecolor\": \"#000000\", \"facecolor\": \"#0000FF\", \"edgewidth\": 1.0, \"pathcodes\": [\"M\", \"L\", \"L\", \"L\", \"Z\"], \"yindex\": 1, \"coordinates\": \"data\", \"dasharray\": \"none\", \"zorder\": 1, \"alpha\": 1, \"xindex\": 0, \"data\": \"data06\", \"id\": \"el532625522632208\"}], \"sharey\": [], \"sharex\": [], \"axesbgalpha\": null, \"axes\": [{\"scale\": \"linear\", \"tickformat\": [\"terminal_1\", \"terminal_2\", \"terminal_4\", \"terminal_5\", \"terminal_7\", \"terminal_8\"], \"grid\": {\"gridOn\": false}, \"visible\": true, \"fontsize\": 12.0, \"position\": \"bottom\", \"nticks\": 6, \"tickvalues\": [0, 1, 2, 3, 4, 5]}, {\"scale\": \"linear\", \"tickformat\": null, \"grid\": {\"gridOn\": false}, \"visible\": true, \"fontsize\": 12.0, \"position\": \"left\", \"nticks\": 8, \"tickvalues\": null}], \"lines\": [], \"markers\": [], \"id\": \"el532625404495184\", \"ydomain\": [0.0, 350000.0], \"collections\": [], \"xscale\": \"linear\", \"bbox\": [0.125, 0.099999999999999978, 0.77500000000000002, 0.80000000000000004]}], \"height\": 480.0, \"width\": 640.0, \"plugins\": [{\"type\": \"reset\"}, {\"enabled\": false, \"button\": true, \"type\": \"zoom\"}, {\"enabled\": false, \"button\": true, \"type\": \"boxzoom\"}], \"data\": {\"data06\": [[4.75, 0.0], [5.25, 0.0], [5.25, 253179.0], [4.75, 253179.0]], \"data04\": [[2.75, 0.0], [3.25, 0.0], [3.25, 177312.0], [2.75, 177312.0]], \"data05\": [[3.75, 0.0], [4.25, 0.0], [4.25, 110284.0], [3.75, 110284.0]], \"data02\": [[0.75, 0.0], [1.25, 0.0], [1.25, 61629.0], [0.75, 61629.0]], \"data03\": [[1.75, 0.0], [2.25, 0.0], [2.25, 320668.0], [1.75, 320668.0]], \"data01\": [[-0.25, 0.0], [0.25, 0.0], [0.25, 180289.0], [-0.25, 180289.0]]}, \"id\": \"el532624953496592\"});\n",
       "   }(mpld3);\n",
       "}else if(typeof define === \"function\" && define.amd){\n",
       "   // require.js is available: use it to load d3/mpld3\n",
       "   require.config({paths: {d3: \"https://mpld3.github.io/js/d3.v3.min\"}});\n",
       "   require([\"d3\"], function(d3){\n",
       "      window.d3 = d3;\n",
       "      mpld3_load_lib(\"https://mpld3.github.io/js/mpld3.v0.3.js\", function(){\n",
       "         \n",
       "         mpld3.draw_figure(\"fig_el5326249534965929926503417\", {\"axes\": [{\"xlim\": [-0.5, 5.5], \"yscale\": \"linear\", \"axesbg\": \"#FFFFFF\", \"texts\": [], \"zoomable\": true, \"images\": [], \"xdomain\": [-0.5, 5.5], \"ylim\": [0.0, 350000.0], \"paths\": [{\"edgecolor\": \"#000000\", \"facecolor\": \"#0000FF\", \"edgewidth\": 1.0, \"pathcodes\": [\"M\", \"L\", \"L\", \"L\", \"Z\"], \"yindex\": 1, \"coordinates\": \"data\", \"dasharray\": \"none\", \"zorder\": 1, \"alpha\": 1, \"xindex\": 0, \"data\": \"data01\", \"id\": \"el532625402226256\"}, {\"edgecolor\": \"#000000\", \"facecolor\": \"#0000FF\", \"edgewidth\": 1.0, \"pathcodes\": [\"M\", \"L\", \"L\", \"L\", \"Z\"], \"yindex\": 1, \"coordinates\": \"data\", \"dasharray\": \"none\", \"zorder\": 1, \"alpha\": 1, \"xindex\": 0, \"data\": \"data02\", \"id\": \"el532624847488016\"}, {\"edgecolor\": \"#000000\", \"facecolor\": \"#0000FF\", \"edgewidth\": 1.0, \"pathcodes\": [\"M\", \"L\", \"L\", \"L\", \"Z\"], \"yindex\": 1, \"coordinates\": \"data\", \"dasharray\": \"none\", \"zorder\": 1, \"alpha\": 1, \"xindex\": 0, \"data\": \"data03\", \"id\": \"el532625367794256\"}, {\"edgecolor\": \"#000000\", \"facecolor\": \"#0000FF\", \"edgewidth\": 1.0, \"pathcodes\": [\"M\", \"L\", \"L\", \"L\", \"Z\"], \"yindex\": 1, \"coordinates\": \"data\", \"dasharray\": \"none\", \"zorder\": 1, \"alpha\": 1, \"xindex\": 0, \"data\": \"data04\", \"id\": \"el532625522696592\"}, {\"edgecolor\": \"#000000\", \"facecolor\": \"#0000FF\", \"edgewidth\": 1.0, \"pathcodes\": [\"M\", \"L\", \"L\", \"L\", \"Z\"], \"yindex\": 1, \"coordinates\": \"data\", \"dasharray\": \"none\", \"zorder\": 1, \"alpha\": 1, \"xindex\": 0, \"data\": \"data05\", \"id\": \"el532625522671504\"}, {\"edgecolor\": \"#000000\", \"facecolor\": \"#0000FF\", \"edgewidth\": 1.0, \"pathcodes\": [\"M\", \"L\", \"L\", \"L\", \"Z\"], \"yindex\": 1, \"coordinates\": \"data\", \"dasharray\": \"none\", \"zorder\": 1, \"alpha\": 1, \"xindex\": 0, \"data\": \"data06\", \"id\": \"el532625522632208\"}], \"sharey\": [], \"sharex\": [], \"axesbgalpha\": null, \"axes\": [{\"scale\": \"linear\", \"tickformat\": [\"terminal_1\", \"terminal_2\", \"terminal_4\", \"terminal_5\", \"terminal_7\", \"terminal_8\"], \"grid\": {\"gridOn\": false}, \"visible\": true, \"fontsize\": 12.0, \"position\": \"bottom\", \"nticks\": 6, \"tickvalues\": [0, 1, 2, 3, 4, 5]}, {\"scale\": \"linear\", \"tickformat\": null, \"grid\": {\"gridOn\": false}, \"visible\": true, \"fontsize\": 12.0, \"position\": \"left\", \"nticks\": 8, \"tickvalues\": null}], \"lines\": [], \"markers\": [], \"id\": \"el532625404495184\", \"ydomain\": [0.0, 350000.0], \"collections\": [], \"xscale\": \"linear\", \"bbox\": [0.125, 0.099999999999999978, 0.77500000000000002, 0.80000000000000004]}], \"height\": 480.0, \"width\": 640.0, \"plugins\": [{\"type\": \"reset\"}, {\"enabled\": false, \"button\": true, \"type\": \"zoom\"}, {\"enabled\": false, \"button\": true, \"type\": \"boxzoom\"}], \"data\": {\"data06\": [[4.75, 0.0], [5.25, 0.0], [5.25, 253179.0], [4.75, 253179.0]], \"data04\": [[2.75, 0.0], [3.25, 0.0], [3.25, 177312.0], [2.75, 177312.0]], \"data05\": [[3.75, 0.0], [4.25, 0.0], [4.25, 110284.0], [3.75, 110284.0]], \"data02\": [[0.75, 0.0], [1.25, 0.0], [1.25, 61629.0], [0.75, 61629.0]], \"data03\": [[1.75, 0.0], [2.25, 0.0], [2.25, 320668.0], [1.75, 320668.0]], \"data01\": [[-0.25, 0.0], [0.25, 0.0], [0.25, 180289.0], [-0.25, 180289.0]]}, \"id\": \"el532624953496592\"});\n",
       "      });\n",
       "    });\n",
       "}else{\n",
       "    // require.js not available: dynamically load d3 & mpld3\n",
       "    mpld3_load_lib(\"https://mpld3.github.io/js/d3.v3.min.js\", function(){\n",
       "         mpld3_load_lib(\"https://mpld3.github.io/js/mpld3.v0.3.js\", function(){\n",
       "                 \n",
       "                 mpld3.draw_figure(\"fig_el5326249534965929926503417\", {\"axes\": [{\"xlim\": [-0.5, 5.5], \"yscale\": \"linear\", \"axesbg\": \"#FFFFFF\", \"texts\": [], \"zoomable\": true, \"images\": [], \"xdomain\": [-0.5, 5.5], \"ylim\": [0.0, 350000.0], \"paths\": [{\"edgecolor\": \"#000000\", \"facecolor\": \"#0000FF\", \"edgewidth\": 1.0, \"pathcodes\": [\"M\", \"L\", \"L\", \"L\", \"Z\"], \"yindex\": 1, \"coordinates\": \"data\", \"dasharray\": \"none\", \"zorder\": 1, \"alpha\": 1, \"xindex\": 0, \"data\": \"data01\", \"id\": \"el532625402226256\"}, {\"edgecolor\": \"#000000\", \"facecolor\": \"#0000FF\", \"edgewidth\": 1.0, \"pathcodes\": [\"M\", \"L\", \"L\", \"L\", \"Z\"], \"yindex\": 1, \"coordinates\": \"data\", \"dasharray\": \"none\", \"zorder\": 1, \"alpha\": 1, \"xindex\": 0, \"data\": \"data02\", \"id\": \"el532624847488016\"}, {\"edgecolor\": \"#000000\", \"facecolor\": \"#0000FF\", \"edgewidth\": 1.0, \"pathcodes\": [\"M\", \"L\", \"L\", \"L\", \"Z\"], \"yindex\": 1, \"coordinates\": \"data\", \"dasharray\": \"none\", \"zorder\": 1, \"alpha\": 1, \"xindex\": 0, \"data\": \"data03\", \"id\": \"el532625367794256\"}, {\"edgecolor\": \"#000000\", \"facecolor\": \"#0000FF\", \"edgewidth\": 1.0, \"pathcodes\": [\"M\", \"L\", \"L\", \"L\", \"Z\"], \"yindex\": 1, \"coordinates\": \"data\", \"dasharray\": \"none\", \"zorder\": 1, \"alpha\": 1, \"xindex\": 0, \"data\": \"data04\", \"id\": \"el532625522696592\"}, {\"edgecolor\": \"#000000\", \"facecolor\": \"#0000FF\", \"edgewidth\": 1.0, \"pathcodes\": [\"M\", \"L\", \"L\", \"L\", \"Z\"], \"yindex\": 1, \"coordinates\": \"data\", \"dasharray\": \"none\", \"zorder\": 1, \"alpha\": 1, \"xindex\": 0, \"data\": \"data05\", \"id\": \"el532625522671504\"}, {\"edgecolor\": \"#000000\", \"facecolor\": \"#0000FF\", \"edgewidth\": 1.0, \"pathcodes\": [\"M\", \"L\", \"L\", \"L\", \"Z\"], \"yindex\": 1, \"coordinates\": \"data\", \"dasharray\": \"none\", \"zorder\": 1, \"alpha\": 1, \"xindex\": 0, \"data\": \"data06\", \"id\": \"el532625522632208\"}], \"sharey\": [], \"sharex\": [], \"axesbgalpha\": null, \"axes\": [{\"scale\": \"linear\", \"tickformat\": [\"terminal_1\", \"terminal_2\", \"terminal_4\", \"terminal_5\", \"terminal_7\", \"terminal_8\"], \"grid\": {\"gridOn\": false}, \"visible\": true, \"fontsize\": 12.0, \"position\": \"bottom\", \"nticks\": 6, \"tickvalues\": [0, 1, 2, 3, 4, 5]}, {\"scale\": \"linear\", \"tickformat\": null, \"grid\": {\"gridOn\": false}, \"visible\": true, \"fontsize\": 12.0, \"position\": \"left\", \"nticks\": 8, \"tickvalues\": null}], \"lines\": [], \"markers\": [], \"id\": \"el532625404495184\", \"ydomain\": [0.0, 350000.0], \"collections\": [], \"xscale\": \"linear\", \"bbox\": [0.125, 0.099999999999999978, 0.77500000000000002, 0.80000000000000004]}], \"height\": 480.0, \"width\": 640.0, \"plugins\": [{\"type\": \"reset\"}, {\"enabled\": false, \"button\": true, \"type\": \"zoom\"}, {\"enabled\": false, \"button\": true, \"type\": \"boxzoom\"}], \"data\": {\"data06\": [[4.75, 0.0], [5.25, 0.0], [5.25, 253179.0], [4.75, 253179.0]], \"data04\": [[2.75, 0.0], [3.25, 0.0], [3.25, 177312.0], [2.75, 177312.0]], \"data05\": [[3.75, 0.0], [4.25, 0.0], [4.25, 110284.0], [3.75, 110284.0]], \"data02\": [[0.75, 0.0], [1.25, 0.0], [1.25, 61629.0], [0.75, 61629.0]], \"data03\": [[1.75, 0.0], [2.25, 0.0], [2.25, 320668.0], [1.75, 320668.0]], \"data01\": [[-0.25, 0.0], [0.25, 0.0], [0.25, 180289.0], [-0.25, 180289.0]]}, \"id\": \"el532624953496592\"});\n",
       "            })\n",
       "         });\n",
       "}\n",
       "</script>"
      ],
      "text/plain": [
       "<IPython.core.display.HTML object>"
      ]
     },
     "execution_count": 262,
     "metadata": {},
     "output_type": "execute_result"
    }
   ],
   "source": [
    "plt = total_jfk_counts.plot(kind='bar')\n",
    "mpld3.display()"
   ]
  },
  {
   "cell_type": "code",
   "execution_count": 263,
   "metadata": {
    "collapsed": false
   },
   "outputs": [
    {
     "data": {
      "text/plain": [
       "terminal_1    180289.0\n",
       "terminal_2     61629.0\n",
       "terminal_4    320668.0\n",
       "terminal_5    177312.0\n",
       "terminal_7    110284.0\n",
       "terminal_8    253179.0\n",
       "Name: terminal, dtype: float64"
      ]
     },
     "execution_count": 263,
     "metadata": {},
     "output_type": "execute_result"
    }
   ],
   "source": [
    "total_jfk_counts"
   ]
  },
  {
   "cell_type": "code",
   "execution_count": 264,
   "metadata": {
    "collapsed": false
   },
   "outputs": [],
   "source": [
    "def add_counts(total_dropoff_count, dropoff_counts, terminal_airline_list):\n",
    "    average_dropoff_count = total_dropoff_count/len(terminal_airline_list)\n",
    "    for airline in terminal_airline_list:\n",
    "        dropoff_counts[airline] += average_dropoff_count\n",
    "    return dropoff_counts"
   ]
  },
  {
   "cell_type": "code",
   "execution_count": 265,
   "metadata": {
    "collapsed": true
   },
   "outputs": [],
   "source": [
    "def make_airline_array(raw_string):\n",
    "    return raw_string.split('\\n')"
   ]
  },
  {
   "cell_type": "code",
   "execution_count": 266,
   "metadata": {
    "collapsed": false
   },
   "outputs": [],
   "source": [
    "dropoff_counts = add_counts(49529, Counter(), [\n",
    "            'Southwest',\n",
    "            'Air Canada',\n",
    "            'Virgin America',\n",
    "            'JetBlue Airways',\n",
    "            'American',\n",
    "            'Alaska'\n",
    "        ])"
   ]
  },
  {
   "cell_type": "code",
   "execution_count": 267,
   "metadata": {
    "collapsed": false
   },
   "outputs": [],
   "source": [
    "dropoff_counts = add_counts(50910, dropoff_counts, [\n",
    "            'Austrian',\n",
    "            'Cathay Pacific Airways',\n",
    "            'TAP Air Portugal',\n",
    "            'Allegiant Air',\n",
    "            'OpenSkies',\n",
    "            'Aer Lingus',\n",
    "            'Porter',\n",
    "            'Delta',\n",
    "            'SAS Scandinavian',\n",
    "            'Spirit',\n",
    "            'Swiss International',\n",
    "            'Virgin Atlantic Airways',\n",
    "            'Ethiopian',\n",
    "            'Wow Air',\n",
    "            'Lufthansa',\n",
    "            'Air India',\n",
    "            'El Al',\n",
    "            'Icelandair',\n",
    "            'Air China',\n",
    "            'British Airways'\n",
    "        ])"
   ]
  },
  {
   "cell_type": "code",
   "execution_count": 268,
   "metadata": {
    "collapsed": false
   },
   "outputs": [],
   "source": [
    "dropoff_counts = add_counts(106524, dropoff_counts, ['United'] )"
   ]
  },
  {
   "cell_type": "code",
   "execution_count": 269,
   "metadata": {
    "collapsed": false
   },
   "outputs": [],
   "source": [
    "dropoff_counts = add_counts(57285, dropoff_counts, ['Delta'] )"
   ]
  },
  {
   "cell_type": "code",
   "execution_count": 270,
   "metadata": {
    "collapsed": false
   },
   "outputs": [],
   "source": [
    "dropoff_counts = add_counts(827711 , dropoff_counts, make_airline_array(\"\"\"American\n",
    "JetBlue\n",
    "Spirit\n",
    "Southwest\n",
    "Air Canada\n",
    "Virgin America\n",
    "Frontier\n",
    "United\"\"\"))"
   ]
  },
  {
   "cell_type": "code",
   "execution_count": 271,
   "metadata": {
    "collapsed": true
   },
   "outputs": [],
   "source": [
    "dropoff_counts = add_counts(353063, dropoff_counts, make_airline_array(\"\"\"Delta\n",
    "American\"\"\"))"
   ]
  },
  {
   "cell_type": "code",
   "execution_count": 272,
   "metadata": {
    "collapsed": true
   },
   "outputs": [],
   "source": [
    "dropoff_counts = add_counts(273830, dropoff_counts, make_airline_array(\"\"\"Delta\n",
    "WestJet\"\"\"))"
   ]
  },
  {
   "cell_type": "code",
   "execution_count": 273,
   "metadata": {
    "collapsed": true
   },
   "outputs": [],
   "source": [
    "dropoff_counts = add_counts(180289, dropoff_counts, make_airline_array(\"\"\"Cayman Airways\n",
    "Air France\n",
    "Norwegian Air Shuttle\n",
    "Azerbaijan Hava Yollary\n",
    "Fly Jamaica\n",
    "Saudia\n",
    "Austrian\n",
    "Aeromexico\n",
    "Turkish\n",
    "EVA Air\n",
    "Interjet\n",
    "Alitalia\n",
    "Japan\n",
    "Aeroflot Russian\n",
    "Korean Air Lines\n",
    "Brussels\n",
    "China Eastern\n",
    "Lufthansa\n",
    "Air China\n",
    "Meridiana\n",
    "Philippine\n",
    "Royal Air Maroc\"\"\"))"
   ]
  },
  {
   "cell_type": "code",
   "execution_count": 274,
   "metadata": {
    "collapsed": true
   },
   "outputs": [],
   "source": [
    "dropoff_counts = add_counts(61629, dropoff_counts, make_airline_array(\"\"\"Delta\"\"\"))"
   ]
  },
  {
   "cell_type": "code",
   "execution_count": 275,
   "metadata": {
    "collapsed": true
   },
   "outputs": [],
   "source": [
    "dropoff_counts = add_counts(320668, dropoff_counts, make_airline_array(\"\"\"Air Serbia\n",
    "Arik Air\n",
    "El Al\n",
    "Volaris\n",
    "Egyptair\n",
    "Air Jamaica\n",
    "XL Airways\n",
    "China\n",
    "Thomas Cook\n",
    "Uzbekistan\n",
    "Air Europa\n",
    "Virgin America\n",
    "Singapore\n",
    "Etihad\n",
    "China Southern\n",
    "Avianca\n",
    "Virgin Atlantic Airways\n",
    "Pakistan\n",
    "COPA\n",
    "Kuwait Airways\n",
    "Carribean\n",
    "Emirates\n",
    "KLM\n",
    "Asiana\n",
    "Sun Country\n",
    "Swiss International\n",
    "WestJet\n",
    "Air India\n",
    "Miami Air\n",
    "Delta\n",
    "South African Airways\"\"\"))"
   ]
  },
  {
   "cell_type": "code",
   "execution_count": 276,
   "metadata": {
    "collapsed": true
   },
   "outputs": [],
   "source": [
    "dropoff_counts = add_counts(177312, dropoff_counts, make_airline_array(\"\"\"JetBlue\n",
    "Hawaiian\n",
    "Aer Lingus\n",
    "TAP Air Portugal\"\"\"))"
   ]
  },
  {
   "cell_type": "code",
   "execution_count": 277,
   "metadata": {
    "collapsed": true
   },
   "outputs": [],
   "source": [
    "dropoff_counts = add_counts(110284, dropoff_counts, make_airline_array(\"\"\"Qatar Airways\n",
    "Ukraine International\n",
    "Cathay Pacific Airways\n",
    "Iberia\n",
    "Icelandair\n",
    "OpenSkies\n",
    "LOT Polish\n",
    "Qantas\n",
    "Interjet\n",
    "British Airways\n",
    "ANA\n",
    "Aerolineas Argentinas\"\"\"))"
   ]
  },
  {
   "cell_type": "code",
   "execution_count": 278,
   "metadata": {
    "collapsed": true
   },
   "outputs": [],
   "source": [
    "dropoff_counts = add_counts(253179, dropoff_counts, make_airline_array(\"\"\"American Eagle\n",
    "American\n",
    "Alaska\n",
    "Air Berlin\n",
    "Qatar Airways\n",
    "Royal Jordanian\n",
    "Finnair\"\"\"))"
   ]
  },
  {
   "cell_type": "code",
   "execution_count": 279,
   "metadata": {
    "collapsed": false
   },
   "outputs": [],
   "source": [
    "total_dropoffs = sum(dropoff_counts.values())"
   ]
  },
  {
   "cell_type": "code",
   "execution_count": 280,
   "metadata": {
    "collapsed": false
   },
   "outputs": [
    {
     "data": {
      "text/plain": [
       "2822158"
      ]
     },
     "execution_count": 280,
     "metadata": {},
     "output_type": "execute_result"
    }
   ],
   "source": [
    "total_dropoffs"
   ]
  },
  {
   "cell_type": "code",
   "execution_count": 281,
   "metadata": {
    "collapsed": false,
    "scrolled": true
   },
   "outputs": [
    {
     "data": {
      "text/plain": [
       "[('Delta', 445249),\n",
       " ('American', 324416),\n",
       " ('United', 209987),\n",
       " ('JetBlue', 147791),\n",
       " ('WestJet', 147259),\n",
       " ('Virgin America', 122061),\n",
       " ('Southwest', 111717),\n",
       " ('Air Canada', 111717),\n",
       " ('Spirit', 106008),\n",
       " ('Frontier', 103463),\n",
       " ('TAP Air Portugal', 46873),\n",
       " ('Aer Lingus', 46873),\n",
       " ('Qatar Airways', 45358),\n",
       " ('Alaska', 44422),\n",
       " ('Hawaiian', 44328),\n",
       " ('Air Berlin', 36168),\n",
       " ('Royal Jordanian', 36168),\n",
       " ('Finnair', 36168),\n",
       " ('American Eagle', 36168),\n",
       " ('Interjet', 17384),\n",
       " ('Virgin Atlantic Airways', 12889),\n",
       " ('Air India', 12889),\n",
       " ('El Al', 12889),\n",
       " ('Swiss International', 12889),\n",
       " ('British Airways', 11735),\n",
       " ('OpenSkies', 11735),\n",
       " ('Icelandair', 11735),\n",
       " ('Cathay Pacific Airways', 11735),\n",
       " ('Lufthansa', 10739),\n",
       " ('Air China', 10739),\n",
       " ('Austrian', 10739),\n",
       " ('Air Jamaica', 10344),\n",
       " ('Carribean', 10344),\n",
       " ('China Southern', 10344),\n",
       " ('Arik Air', 10344),\n",
       " ('Uzbekistan', 10344),\n",
       " ('XL Airways', 10344),\n",
       " ('Singapore', 10344),\n",
       " ('China', 10344),\n",
       " ('Miami Air', 10344),\n",
       " ('COPA', 10344),\n",
       " ('Thomas Cook', 10344),\n",
       " ('Air Europa', 10344),\n",
       " ('Etihad', 10344),\n",
       " ('Air Serbia', 10344),\n",
       " ('KLM', 10344),\n",
       " ('Avianca', 10344),\n",
       " ('Emirates', 10344),\n",
       " ('Kuwait Airways', 10344),\n",
       " ('Egyptair', 10344),\n",
       " ('Asiana', 10344),\n",
       " ('Sun Country', 10344),\n",
       " ('Volaris', 10344),\n",
       " ('South African Airways', 10344),\n",
       " ('Pakistan', 10344),\n",
       " ('ANA', 9190),\n",
       " ('Ukraine International', 9190),\n",
       " ('Iberia', 9190),\n",
       " ('Qantas', 9190),\n",
       " ('Aerolineas Argentinas', 9190),\n",
       " ('LOT Polish', 9190),\n",
       " ('JetBlue Airways', 8254),\n",
       " ('Cayman Airways', 8194),\n",
       " ('Philippine', 8194),\n",
       " ('Meridiana', 8194),\n",
       " ('Fly Jamaica', 8194),\n",
       " ('Saudia', 8194),\n",
       " ('Turkish', 8194),\n",
       " ('Alitalia', 8194),\n",
       " ('Brussels', 8194),\n",
       " ('Air France', 8194),\n",
       " ('Azerbaijan Hava Yollary', 8194),\n",
       " ('Japan', 8194),\n",
       " ('Royal Air Maroc', 8194),\n",
       " ('Aeroflot Russian', 8194),\n",
       " ('China Eastern', 8194),\n",
       " ('Norwegian Air Shuttle', 8194),\n",
       " ('Aeromexico', 8194),\n",
       " ('Korean Air Lines', 8194),\n",
       " ('EVA Air', 8194),\n",
       " ('Wow Air', 2545),\n",
       " ('Porter', 2545),\n",
       " ('Allegiant Air', 2545),\n",
       " ('SAS Scandinavian', 2545),\n",
       " ('Ethiopian', 2545)]"
      ]
     },
     "execution_count": 281,
     "metadata": {},
     "output_type": "execute_result"
    }
   ],
   "source": [
    "dropoff_counts.most_common()"
   ]
  },
  {
   "cell_type": "code",
   "execution_count": 282,
   "metadata": {
    "collapsed": true
   },
   "outputs": [],
   "source": [
    "market_shares = Counter()"
   ]
  },
  {
   "cell_type": "code",
   "execution_count": 283,
   "metadata": {
    "collapsed": false
   },
   "outputs": [],
   "source": [
    "for airline, dropoffs in dropoff_counts.most_common():\n",
    "    market_shares[airline] = dropoffs/float(total_dropoffs) * 100"
   ]
  },
  {
   "cell_type": "code",
   "execution_count": 284,
   "metadata": {
    "collapsed": false
   },
   "outputs": [
    {
     "data": {
      "text/plain": [
       "Counter({'ANA': 0.3256373314321877,\n",
       "         'Aer Lingus': 1.6608921258129417,\n",
       "         'Aeroflot Russian': 0.290345189744869,\n",
       "         'Aerolineas Argentinas': 0.3256373314321877,\n",
       "         'Aeromexico': 0.290345189744869,\n",
       "         'Air Berlin': 1.2815724704286577,\n",
       "         'Air Canada': 3.9585664587170526,\n",
       "         'Air China': 0.3805244072089515,\n",
       "         'Air Europa': 0.36652802571649074,\n",
       "         'Air France': 0.290345189744869,\n",
       "         'Air India': 0.4567072431805732,\n",
       "         'Air Jamaica': 0.36652802571649074,\n",
       "         'Air Serbia': 0.36652802571649074,\n",
       "         'Alaska': 1.574043692805293,\n",
       "         'Alitalia': 0.290345189744869,\n",
       "         'Allegiant Air': 0.09017921746408245,\n",
       "         'American': 11.49531670445099,\n",
       "         'American Eagle': 1.2815724704286577,\n",
       "         'Arik Air': 0.36652802571649074,\n",
       "         'Asiana': 0.36652802571649074,\n",
       "         'Austrian': 0.3805244072089515,\n",
       "         'Avianca': 0.36652802571649074,\n",
       "         'Azerbaijan Hava Yollary': 0.290345189744869,\n",
       "         'British Airways': 0.4158165488962701,\n",
       "         'Brussels': 0.290345189744869,\n",
       "         'COPA': 0.36652802571649074,\n",
       "         'Carribean': 0.36652802571649074,\n",
       "         'Cathay Pacific Airways': 0.4158165488962701,\n",
       "         'Cayman Airways': 0.290345189744869,\n",
       "         'China': 0.36652802571649074,\n",
       "         'China Eastern': 0.290345189744869,\n",
       "         'China Southern': 0.36652802571649074,\n",
       "         'Delta': 15.776898387687721,\n",
       "         'EVA Air': 0.290345189744869,\n",
       "         'Egyptair': 0.36652802571649074,\n",
       "         'El Al': 0.4567072431805732,\n",
       "         'Emirates': 0.36652802571649074,\n",
       "         'Ethiopian': 0.09017921746408245,\n",
       "         'Etihad': 0.36652802571649074,\n",
       "         'Finnair': 1.2815724704286577,\n",
       "         'Fly Jamaica': 0.290345189744869,\n",
       "         'Frontier': 3.666095236340418,\n",
       "         'Hawaiian': 1.5707129083488591,\n",
       "         'Iberia': 0.3256373314321877,\n",
       "         'Icelandair': 0.4158165488962701,\n",
       "         'Interjet': 0.6159825211770567,\n",
       "         'Japan': 0.290345189744869,\n",
       "         'JetBlue': 5.236808144689277,\n",
       "         'JetBlue Airways': 0.29247122237663514,\n",
       "         'KLM': 0.36652802571649074,\n",
       "         'Korean Air Lines': 0.290345189744869,\n",
       "         'Kuwait Airways': 0.36652802571649074,\n",
       "         'LOT Polish': 0.3256373314321877,\n",
       "         'Lufthansa': 0.3805244072089515,\n",
       "         'Meridiana': 0.290345189744869,\n",
       "         'Miami Air': 0.36652802571649074,\n",
       "         'Norwegian Air Shuttle': 0.290345189744869,\n",
       "         'OpenSkies': 0.4158165488962701,\n",
       "         'Pakistan': 0.36652802571649074,\n",
       "         'Philippine': 0.290345189744869,\n",
       "         'Porter': 0.09017921746408245,\n",
       "         'Qantas': 0.3256373314321877,\n",
       "         'Qatar Airways': 1.6072098018608454,\n",
       "         'Royal Air Maroc': 0.290345189744869,\n",
       "         'Royal Jordanian': 1.2815724704286577,\n",
       "         'SAS Scandinavian': 0.09017921746408245,\n",
       "         'Saudia': 0.290345189744869,\n",
       "         'Singapore': 0.36652802571649074,\n",
       "         'South African Airways': 0.36652802571649074,\n",
       "         'Southwest': 3.9585664587170526,\n",
       "         'Spirit': 3.7562744538045,\n",
       "         'Sun Country': 0.36652802571649074,\n",
       "         'Swiss International': 0.4567072431805732,\n",
       "         'TAP Air Portugal': 1.6608921258129417,\n",
       "         'Thomas Cook': 0.36652802571649074,\n",
       "         'Turkish': 0.290345189744869,\n",
       "         'Ukraine International': 0.3256373314321877,\n",
       "         'United': 7.440653570778107,\n",
       "         'Uzbekistan': 0.36652802571649074,\n",
       "         'Virgin America': 4.325094484433543,\n",
       "         'Virgin Atlantic Airways': 0.4567072431805732,\n",
       "         'Volaris': 0.36652802571649074,\n",
       "         'WestJet': 5.21795732202095,\n",
       "         'Wow Air': 0.09017921746408245,\n",
       "         'XL Airways': 0.36652802571649074})"
      ]
     },
     "execution_count": 284,
     "metadata": {},
     "output_type": "execute_result"
    }
   ],
   "source": [
    "market_shares"
   ]
  },
  {
   "cell_type": "code",
   "execution_count": 285,
   "metadata": {
    "collapsed": false,
    "scrolled": true
   },
   "outputs": [
    {
     "data": {
      "text/plain": [
       "[('Delta', 15.776898387687721),\n",
       " ('American', 11.49531670445099),\n",
       " ('United', 7.440653570778107),\n",
       " ('JetBlue', 5.236808144689277),\n",
       " ('WestJet', 5.21795732202095),\n",
       " ('Virgin America', 4.325094484433543),\n",
       " ('Southwest', 3.9585664587170526),\n",
       " ('Air Canada', 3.9585664587170526),\n",
       " ('Spirit', 3.7562744538045),\n",
       " ('Frontier', 3.666095236340418),\n",
       " ('TAP Air Portugal', 1.6608921258129417),\n",
       " ('Aer Lingus', 1.6608921258129417),\n",
       " ('Qatar Airways', 1.6072098018608454),\n",
       " ('Alaska', 1.574043692805293),\n",
       " ('Hawaiian', 1.5707129083488591),\n",
       " ('Royal Jordanian', 1.2815724704286577),\n",
       " ('Finnair', 1.2815724704286577),\n",
       " ('American Eagle', 1.2815724704286577),\n",
       " ('Air Berlin', 1.2815724704286577),\n",
       " ('Interjet', 0.6159825211770567),\n",
       " ('Virgin Atlantic Airways', 0.4567072431805732),\n",
       " ('Air India', 0.4567072431805732),\n",
       " ('El Al', 0.4567072431805732),\n",
       " ('Swiss International', 0.4567072431805732),\n",
       " ('OpenSkies', 0.4158165488962701),\n",
       " ('British Airways', 0.4158165488962701),\n",
       " ('Icelandair', 0.4158165488962701),\n",
       " ('Cathay Pacific Airways', 0.4158165488962701),\n",
       " ('Lufthansa', 0.3805244072089515),\n",
       " ('Air China', 0.3805244072089515),\n",
       " ('Austrian', 0.3805244072089515),\n",
       " ('Air Jamaica', 0.36652802571649074),\n",
       " ('Miami Air', 0.36652802571649074),\n",
       " ('China Southern', 0.36652802571649074),\n",
       " ('Arik Air', 0.36652802571649074),\n",
       " ('Singapore', 0.36652802571649074),\n",
       " ('Egyptair', 0.36652802571649074),\n",
       " ('China', 0.36652802571649074),\n",
       " ('South African Airways', 0.36652802571649074),\n",
       " ('Sun Country', 0.36652802571649074),\n",
       " ('COPA', 0.36652802571649074),\n",
       " ('Pakistan', 0.36652802571649074),\n",
       " ('KLM', 0.36652802571649074),\n",
       " ('Asiana', 0.36652802571649074),\n",
       " ('Emirates', 0.36652802571649074),\n",
       " ('Air Europa', 0.36652802571649074),\n",
       " ('Carribean', 0.36652802571649074),\n",
       " ('Kuwait Airways', 0.36652802571649074),\n",
       " ('Etihad', 0.36652802571649074),\n",
       " ('Avianca', 0.36652802571649074),\n",
       " ('XL Airways', 0.36652802571649074),\n",
       " ('Volaris', 0.36652802571649074),\n",
       " ('Air Serbia', 0.36652802571649074),\n",
       " ('Uzbekistan', 0.36652802571649074),\n",
       " ('Thomas Cook', 0.36652802571649074),\n",
       " ('Ukraine International', 0.3256373314321877),\n",
       " ('Iberia', 0.3256373314321877),\n",
       " ('ANA', 0.3256373314321877),\n",
       " ('Aerolineas Argentinas', 0.3256373314321877),\n",
       " ('LOT Polish', 0.3256373314321877),\n",
       " ('Qantas', 0.3256373314321877),\n",
       " ('JetBlue Airways', 0.29247122237663514),\n",
       " ('Turkish', 0.290345189744869),\n",
       " ('Cayman Airways', 0.290345189744869),\n",
       " ('Philippine', 0.290345189744869),\n",
       " ('Saudia', 0.290345189744869),\n",
       " ('Alitalia', 0.290345189744869),\n",
       " ('China Eastern', 0.290345189744869),\n",
       " ('Fly Jamaica', 0.290345189744869),\n",
       " ('Meridiana', 0.290345189744869),\n",
       " ('Aeromexico', 0.290345189744869),\n",
       " ('Air France', 0.290345189744869),\n",
       " ('Azerbaijan Hava Yollary', 0.290345189744869),\n",
       " ('Japan', 0.290345189744869),\n",
       " ('Royal Air Maroc', 0.290345189744869),\n",
       " ('Aeroflot Russian', 0.290345189744869),\n",
       " ('Brussels', 0.290345189744869),\n",
       " ('Korean Air Lines', 0.290345189744869),\n",
       " ('Norwegian Air Shuttle', 0.290345189744869),\n",
       " ('EVA Air', 0.290345189744869),\n",
       " ('Wow Air', 0.09017921746408245),\n",
       " ('Ethiopian', 0.09017921746408245),\n",
       " ('Allegiant Air', 0.09017921746408245),\n",
       " ('SAS Scandinavian', 0.09017921746408245),\n",
       " ('Porter', 0.09017921746408245)]"
      ]
     },
     "execution_count": 285,
     "metadata": {},
     "output_type": "execute_result"
    }
   ],
   "source": [
    "market_shares.most_common()"
   ]
  },
  {
   "cell_type": "code",
   "execution_count": null,
   "metadata": {
    "collapsed": true
   },
   "outputs": [],
   "source": []
  }
 ],
 "metadata": {
  "anaconda-cloud": {},
  "kernelspec": {
   "display_name": "Python [conda env:google-big-query-env]",
   "language": "python",
   "name": "conda-env-google-big-query-env-py"
  },
  "language_info": {
   "codemirror_mode": {
    "name": "ipython",
    "version": 2
   },
   "file_extension": ".py",
   "mimetype": "text/x-python",
   "name": "python",
   "nbconvert_exporter": "python",
   "pygments_lexer": "ipython2",
   "version": "2.7.11"
  }
 },
 "nbformat": 4,
 "nbformat_minor": 1
}
