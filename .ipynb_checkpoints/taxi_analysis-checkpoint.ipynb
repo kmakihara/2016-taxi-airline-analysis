{
 "cells": [
  {
   "cell_type": "code",
   "execution_count": 181,
   "metadata": {
    "collapsed": false
   },
   "outputs": [],
   "source": [
    "from shapely.geometry import shape, Point\n",
    "from pyproj import Proj, transform\n",
    "from geopy.distance import great_circle\n",
    "from collections import Counter\n",
    "from ast import literal_eval as make_tuple\n",
    "\n",
    "import shapefile\n",
    "import json\n",
    "import pandas as pd\n",
    "import numpy as np\n",
    "import matplotlib.pyplot as plt, mpld3\n",
    "import csv\n",
    "mpld3.enable_notebook()"
   ]
  },
  {
   "cell_type": "code",
   "execution_count": 29,
   "metadata": {
    "collapsed": true
   },
   "outputs": [],
   "source": [
    "newark_coordinates = {\n",
    "    'terminal_a': [40.687794, -74.182307],\n",
    "    'terminal_b': [40.690627, -74.177544],\n",
    "    'terminal_c': [40.695558, -74.178063]\n",
    "}\n",
    "\n",
    "laguardia_coordinates = {\n",
    "    'terminal_a': [40.772375, -73.885976],\n",
    "    'terminal_b': [40.774444, -73.872006],\n",
    "    'terminal_c': [40.770674, -73.865307],\n",
    "    'terminal_d': [40.768628, -73.862134]\n",
    "}\n",
    "\n",
    "jfk_coordinates = {\n",
    "    'terminal_1': [40.643325, -73.789939],\n",
    "    'terminal_2': [40.641595, -73.788767],\n",
    "    'terminal_4': [40.644193, -73.782554],\n",
    "    'terminal_5': [40.645807, -73.776774],\n",
    "    'terminal_7': [40.648798, -73.782922],\n",
    "    'terminal_8': [40.646934, -73.789874]\n",
    "}"
   ]
  },
  {
   "cell_type": "code",
   "execution_count": 30,
   "metadata": {
    "collapsed": false
   },
   "outputs": [],
   "source": [
    "jfk_green_dropoffs = pd.DataFrame.from_csv('./2016/modified/mod-tlc-green-jfk-dropoffs-2016.csv')\n",
    "jfk_yellow_dropoffs = pd.DataFrame.from_csv('./2016/modified/mod-tlc-yellow-jfk-dropoffs-2016.csv')\n",
    "newark_green_dropoffs = pd.DataFrame.from_csv('./2016/modified/mod-tlc-green-newark-dropoffs-2016.csv')\n",
    "newark_yellow_dropoffs = pd.DataFrame.from_csv('./2016/modified/mod-tlc-yellow-newark-dropoffs-2016.csv')\n",
    "laguardia_green_dropoffs = pd.DataFrame.from_csv('./2016/modified/mod-tlc-green-laguardia-dropoffs-2016.csv')\n",
    "laguardia_yellow_dropoffs = pd.DataFrame.from_csv('./2016/modified/mod-tlc-yellow-laguardia-dropoffs-2016.csv')"
   ]
  },
  {
   "cell_type": "code",
   "execution_count": 127,
   "metadata": {
    "collapsed": true
   },
   "outputs": [],
   "source": [
    "sf = shapefile.Reader(\"taxi_zones/taxi_zones\")\n",
    "shapes = sf.shapes()"
   ]
  },
  {
   "cell_type": "code",
   "execution_count": 128,
   "metadata": {
    "collapsed": true
   },
   "outputs": [],
   "source": [
    "NEWARK_ID = 1\n",
    "LAGUARDIA_ID = 138\n",
    "JFK_ID = 132"
   ]
  },
  {
   "cell_type": "code",
   "execution_count": 184,
   "metadata": {
    "collapsed": true
   },
   "outputs": [],
   "source": [
    "def check_bounds(raw_coords, shapefile):\n",
    "    in_proj = Proj(init='epsg:4326')\n",
    "    out_proj= Proj(init='epsg:2263', preserve_units = True)\n",
    "    coords = make_tuple(raw_coords)\n",
    "    \n",
    "    point = Point(transform(in_proj, out_proj, coords[1], coords[0]))\n",
    "    polygon = shape(shapefile)\n",
    "    return polygon.contains(point)"
   ]
  },
  {
   "cell_type": "code",
   "execution_count": 189,
   "metadata": {
    "collapsed": false,
    "scrolled": true
   },
   "outputs": [],
   "source": [
    "newark_yellow_filter = newark_yellow_dropoffs['coords'].apply(check_bounds, args=(shapes[NEWARK_ID - 1],))"
   ]
  },
  {
   "cell_type": "code",
   "execution_count": null,
   "metadata": {
    "collapsed": true
   },
   "outputs": [],
   "source": [
    "newark_green_filter = newark_green_dropoffs['coords'].apply(check_bounds, args=(shapes[NEWARK_ID - 1],))\n",
    "laguardia_yellow_filter = laguardia_yellow_dropoffs['coords'].apply(check_bounds, args=(shapes[LAGUARDIA_ID - 1],))\n",
    "laguardia_green_filter = laguardia_green_dropoffs['coords'].apply(check_bounds, args=(shapes[LAGUARDIA_ID - 1],))\n",
    "jfk_yellow_filter = jfk_yellow_dropoffs['coords'].apply(check_bounds, args=(shapes[JFK_ID - 1],))\n",
    "jfk_green_filter = jfk_green_dropoffs['coords'].apply(check_bounds, args=(shapes[JFK_ID - 1],))"
   ]
  },
  {
   "cell_type": "code",
   "execution_count": 193,
   "metadata": {
    "collapsed": false,
    "scrolled": true
   },
   "outputs": [
    {
     "data": {
      "text/plain": [
       "(117734, 20)"
      ]
     },
     "execution_count": 193,
     "metadata": {},
     "output_type": "execute_result"
    }
   ],
   "source": [
    "newark_yellow_dropoffs = newark_yellow_dropoffs.loc[newark_yellow_filter]\n",
    "newark_green_dropoffs = newark_green_dropoffs.loc[newark_green_filter]\n",
    "laguardia_yellow_dropoffs = laguardia_yellow_dropoffs.loc[laguardia_yellow_filter]\n",
    "laguardia_green_dropoffs = laguardia_green_dropoffs.loc[laguardia_green_filter]\n",
    "jfk_yellow_dropoffs = jfk_yellow_dropoffs.loc[jfk_yellow_filter]\n",
    "jfk_green_dropoffs = jfk_green_dropoffs.loc[jfk_green_filter]"
   ]
  },
  {
   "cell_type": "code",
   "execution_count": null,
   "metadata": {
    "collapsed": true
   },
   "outputs": [],
   "source": []
  },
  {
   "cell_type": "code",
   "execution_count": 31,
   "metadata": {
    "collapsed": false
   },
   "outputs": [
    {
     "data": {
      "text/plain": [
       "1807965"
      ]
     },
     "execution_count": 31,
     "metadata": {},
     "output_type": "execute_result"
    }
   ],
   "source": [
    "total_count = len(jfk_green_dropoffs) + len(jfk_yellow_dropoffs) + len(newark_green_dropoffs) + len(newark_yellow_dropoffs) \\\n",
    "+ len(laguardia_green_dropoffs) + len(laguardia_yellow_dropoffs)\n",
    "total_count"
   ]
  },
  {
   "cell_type": "code",
   "execution_count": 56,
   "metadata": {
    "collapsed": false
   },
   "outputs": [],
   "source": [
    "def count_passengers(df):\n",
    "    terminal_counts = pd.Series(np.zeros(len(df['terminal'].unique())), index=df['terminal'].unique(), name='terminal')\n",
    "    for _, dropoff in df.iterrows():\n",
    "        if not np.isnan(dropoff['passenger_count']):\n",
    "            terminal_counts[dropoff['terminal']] += dropoff['passenger_count']\n",
    "        else:\n",
    "            terminal_counts[dropoff['terminal']] += 1\n",
    "    return terminal_counts"
   ]
  },
  {
   "cell_type": "code",
   "execution_count": 57,
   "metadata": {
    "collapsed": false,
    "scrolled": true
   },
   "outputs": [],
   "source": [
    "newark_yellow_terminal_counts = count_passengers(newark_yellow_dropoffs)"
   ]
  },
  {
   "cell_type": "code",
   "execution_count": 58,
   "metadata": {
    "collapsed": false,
    "scrolled": false
   },
   "outputs": [],
   "source": [
    "newark_green_terminal_counts = count_passengers(newark_green_dropoffs)"
   ]
  },
  {
   "cell_type": "code",
   "execution_count": 59,
   "metadata": {
    "collapsed": false
   },
   "outputs": [],
   "source": [
    "total_newark_counts = newark_green_terminal_counts + newark_yellow_terminal_counts"
   ]
  },
  {
   "cell_type": "code",
   "execution_count": 61,
   "metadata": {
    "collapsed": false,
    "scrolled": true
   },
   "outputs": [
    {
     "data": {
      "text/plain": [
       "terminal_c    108937.0\n",
       "terminal_b     50937.0\n",
       "terminal_a     50795.0\n",
       "Name: terminal, dtype: float64"
      ]
     },
     "execution_count": 61,
     "metadata": {},
     "output_type": "execute_result"
    }
   ],
   "source": [
    "total_newark_counts"
   ]
  },
  {
   "cell_type": "code",
   "execution_count": 62,
   "metadata": {
    "collapsed": false,
    "scrolled": false
   },
   "outputs": [
    {
     "data": {
      "text/html": [
       "\n",
       "\n",
       "<style>\n",
       "\n",
       "</style>\n",
       "\n",
       "<div id=\"fig_el5326247214734247985372551\"></div>\n",
       "<script>\n",
       "function mpld3_load_lib(url, callback){\n",
       "  var s = document.createElement('script');\n",
       "  s.src = url;\n",
       "  s.async = true;\n",
       "  s.onreadystatechange = s.onload = callback;\n",
       "  s.onerror = function(){console.warn(\"failed to load library \" + url);};\n",
       "  document.getElementsByTagName(\"head\")[0].appendChild(s);\n",
       "}\n",
       "\n",
       "if(typeof(mpld3) !== \"undefined\" && mpld3._mpld3IsLoaded){\n",
       "   // already loaded: just create the figure\n",
       "   !function(mpld3){\n",
       "       \n",
       "       mpld3.draw_figure(\"fig_el5326247214734247985372551\", {\"axes\": [{\"xlim\": [-0.5, 2.5], \"yscale\": \"linear\", \"axesbg\": \"#FFFFFF\", \"texts\": [], \"zoomable\": true, \"images\": [], \"xdomain\": [-0.5, 2.5], \"ylim\": [0.0, 120000.0], \"paths\": [{\"edgecolor\": \"#000000\", \"facecolor\": \"#0000FF\", \"edgewidth\": 1.0, \"pathcodes\": [\"M\", \"L\", \"L\", \"L\", \"Z\"], \"yindex\": 1, \"coordinates\": \"data\", \"dasharray\": \"none\", \"zorder\": 1, \"alpha\": 1, \"xindex\": 0, \"data\": \"data01\", \"id\": \"el532625309083600\"}, {\"edgecolor\": \"#000000\", \"facecolor\": \"#0000FF\", \"edgewidth\": 1.0, \"pathcodes\": [\"M\", \"L\", \"L\", \"L\", \"Z\"], \"yindex\": 1, \"coordinates\": \"data\", \"dasharray\": \"none\", \"zorder\": 1, \"alpha\": 1, \"xindex\": 0, \"data\": \"data02\", \"id\": \"el532624721512784\"}, {\"edgecolor\": \"#000000\", \"facecolor\": \"#0000FF\", \"edgewidth\": 1.0, \"pathcodes\": [\"M\", \"L\", \"L\", \"L\", \"Z\"], \"yindex\": 1, \"coordinates\": \"data\", \"dasharray\": \"none\", \"zorder\": 1, \"alpha\": 1, \"xindex\": 0, \"data\": \"data03\", \"id\": \"el532625309285200\"}], \"sharey\": [], \"sharex\": [], \"axesbgalpha\": null, \"axes\": [{\"scale\": \"linear\", \"tickformat\": [\"terminal_c\", \"terminal_b\", \"terminal_a\"], \"grid\": {\"gridOn\": false}, \"visible\": true, \"fontsize\": 12.0, \"position\": \"bottom\", \"nticks\": 3, \"tickvalues\": [0, 1, 2]}, {\"scale\": \"linear\", \"tickformat\": null, \"grid\": {\"gridOn\": false}, \"visible\": true, \"fontsize\": 12.0, \"position\": \"left\", \"nticks\": 7, \"tickvalues\": null}], \"lines\": [], \"markers\": [], \"id\": \"el532624740703568\", \"ydomain\": [0.0, 120000.0], \"collections\": [], \"xscale\": \"linear\", \"bbox\": [0.125, 0.099999999999999978, 0.77500000000000002, 0.80000000000000004]}], \"height\": 480.0, \"width\": 640.0, \"plugins\": [{\"type\": \"reset\"}, {\"enabled\": false, \"button\": true, \"type\": \"zoom\"}, {\"enabled\": false, \"button\": true, \"type\": \"boxzoom\"}], \"data\": {\"data02\": [[0.75, 0.0], [1.25, 0.0], [1.25, 50937.0], [0.75, 50937.0]], \"data03\": [[1.75, 0.0], [2.25, 0.0], [2.25, 50795.0], [1.75, 50795.0]], \"data01\": [[-0.25, 0.0], [0.25, 0.0], [0.25, 108937.0], [-0.25, 108937.0]]}, \"id\": \"el532624721473424\"});\n",
       "   }(mpld3);\n",
       "}else if(typeof define === \"function\" && define.amd){\n",
       "   // require.js is available: use it to load d3/mpld3\n",
       "   require.config({paths: {d3: \"https://mpld3.github.io/js/d3.v3.min\"}});\n",
       "   require([\"d3\"], function(d3){\n",
       "      window.d3 = d3;\n",
       "      mpld3_load_lib(\"https://mpld3.github.io/js/mpld3.v0.3.js\", function(){\n",
       "         \n",
       "         mpld3.draw_figure(\"fig_el5326247214734247985372551\", {\"axes\": [{\"xlim\": [-0.5, 2.5], \"yscale\": \"linear\", \"axesbg\": \"#FFFFFF\", \"texts\": [], \"zoomable\": true, \"images\": [], \"xdomain\": [-0.5, 2.5], \"ylim\": [0.0, 120000.0], \"paths\": [{\"edgecolor\": \"#000000\", \"facecolor\": \"#0000FF\", \"edgewidth\": 1.0, \"pathcodes\": [\"M\", \"L\", \"L\", \"L\", \"Z\"], \"yindex\": 1, \"coordinates\": \"data\", \"dasharray\": \"none\", \"zorder\": 1, \"alpha\": 1, \"xindex\": 0, \"data\": \"data01\", \"id\": \"el532625309083600\"}, {\"edgecolor\": \"#000000\", \"facecolor\": \"#0000FF\", \"edgewidth\": 1.0, \"pathcodes\": [\"M\", \"L\", \"L\", \"L\", \"Z\"], \"yindex\": 1, \"coordinates\": \"data\", \"dasharray\": \"none\", \"zorder\": 1, \"alpha\": 1, \"xindex\": 0, \"data\": \"data02\", \"id\": \"el532624721512784\"}, {\"edgecolor\": \"#000000\", \"facecolor\": \"#0000FF\", \"edgewidth\": 1.0, \"pathcodes\": [\"M\", \"L\", \"L\", \"L\", \"Z\"], \"yindex\": 1, \"coordinates\": \"data\", \"dasharray\": \"none\", \"zorder\": 1, \"alpha\": 1, \"xindex\": 0, \"data\": \"data03\", \"id\": \"el532625309285200\"}], \"sharey\": [], \"sharex\": [], \"axesbgalpha\": null, \"axes\": [{\"scale\": \"linear\", \"tickformat\": [\"terminal_c\", \"terminal_b\", \"terminal_a\"], \"grid\": {\"gridOn\": false}, \"visible\": true, \"fontsize\": 12.0, \"position\": \"bottom\", \"nticks\": 3, \"tickvalues\": [0, 1, 2]}, {\"scale\": \"linear\", \"tickformat\": null, \"grid\": {\"gridOn\": false}, \"visible\": true, \"fontsize\": 12.0, \"position\": \"left\", \"nticks\": 7, \"tickvalues\": null}], \"lines\": [], \"markers\": [], \"id\": \"el532624740703568\", \"ydomain\": [0.0, 120000.0], \"collections\": [], \"xscale\": \"linear\", \"bbox\": [0.125, 0.099999999999999978, 0.77500000000000002, 0.80000000000000004]}], \"height\": 480.0, \"width\": 640.0, \"plugins\": [{\"type\": \"reset\"}, {\"enabled\": false, \"button\": true, \"type\": \"zoom\"}, {\"enabled\": false, \"button\": true, \"type\": \"boxzoom\"}], \"data\": {\"data02\": [[0.75, 0.0], [1.25, 0.0], [1.25, 50937.0], [0.75, 50937.0]], \"data03\": [[1.75, 0.0], [2.25, 0.0], [2.25, 50795.0], [1.75, 50795.0]], \"data01\": [[-0.25, 0.0], [0.25, 0.0], [0.25, 108937.0], [-0.25, 108937.0]]}, \"id\": \"el532624721473424\"});\n",
       "      });\n",
       "    });\n",
       "}else{\n",
       "    // require.js not available: dynamically load d3 & mpld3\n",
       "    mpld3_load_lib(\"https://mpld3.github.io/js/d3.v3.min.js\", function(){\n",
       "         mpld3_load_lib(\"https://mpld3.github.io/js/mpld3.v0.3.js\", function(){\n",
       "                 \n",
       "                 mpld3.draw_figure(\"fig_el5326247214734247985372551\", {\"axes\": [{\"xlim\": [-0.5, 2.5], \"yscale\": \"linear\", \"axesbg\": \"#FFFFFF\", \"texts\": [], \"zoomable\": true, \"images\": [], \"xdomain\": [-0.5, 2.5], \"ylim\": [0.0, 120000.0], \"paths\": [{\"edgecolor\": \"#000000\", \"facecolor\": \"#0000FF\", \"edgewidth\": 1.0, \"pathcodes\": [\"M\", \"L\", \"L\", \"L\", \"Z\"], \"yindex\": 1, \"coordinates\": \"data\", \"dasharray\": \"none\", \"zorder\": 1, \"alpha\": 1, \"xindex\": 0, \"data\": \"data01\", \"id\": \"el532625309083600\"}, {\"edgecolor\": \"#000000\", \"facecolor\": \"#0000FF\", \"edgewidth\": 1.0, \"pathcodes\": [\"M\", \"L\", \"L\", \"L\", \"Z\"], \"yindex\": 1, \"coordinates\": \"data\", \"dasharray\": \"none\", \"zorder\": 1, \"alpha\": 1, \"xindex\": 0, \"data\": \"data02\", \"id\": \"el532624721512784\"}, {\"edgecolor\": \"#000000\", \"facecolor\": \"#0000FF\", \"edgewidth\": 1.0, \"pathcodes\": [\"M\", \"L\", \"L\", \"L\", \"Z\"], \"yindex\": 1, \"coordinates\": \"data\", \"dasharray\": \"none\", \"zorder\": 1, \"alpha\": 1, \"xindex\": 0, \"data\": \"data03\", \"id\": \"el532625309285200\"}], \"sharey\": [], \"sharex\": [], \"axesbgalpha\": null, \"axes\": [{\"scale\": \"linear\", \"tickformat\": [\"terminal_c\", \"terminal_b\", \"terminal_a\"], \"grid\": {\"gridOn\": false}, \"visible\": true, \"fontsize\": 12.0, \"position\": \"bottom\", \"nticks\": 3, \"tickvalues\": [0, 1, 2]}, {\"scale\": \"linear\", \"tickformat\": null, \"grid\": {\"gridOn\": false}, \"visible\": true, \"fontsize\": 12.0, \"position\": \"left\", \"nticks\": 7, \"tickvalues\": null}], \"lines\": [], \"markers\": [], \"id\": \"el532624740703568\", \"ydomain\": [0.0, 120000.0], \"collections\": [], \"xscale\": \"linear\", \"bbox\": [0.125, 0.099999999999999978, 0.77500000000000002, 0.80000000000000004]}], \"height\": 480.0, \"width\": 640.0, \"plugins\": [{\"type\": \"reset\"}, {\"enabled\": false, \"button\": true, \"type\": \"zoom\"}, {\"enabled\": false, \"button\": true, \"type\": \"boxzoom\"}], \"data\": {\"data02\": [[0.75, 0.0], [1.25, 0.0], [1.25, 50937.0], [0.75, 50937.0]], \"data03\": [[1.75, 0.0], [2.25, 0.0], [2.25, 50795.0], [1.75, 50795.0]], \"data01\": [[-0.25, 0.0], [0.25, 0.0], [0.25, 108937.0], [-0.25, 108937.0]]}, \"id\": \"el532624721473424\"});\n",
       "            })\n",
       "         });\n",
       "}\n",
       "</script>"
      ],
      "text/plain": [
       "<IPython.core.display.HTML object>"
      ]
     },
     "execution_count": 62,
     "metadata": {},
     "output_type": "execute_result"
    }
   ],
   "source": [
    "plt = total_newark_counts.plot(kind='bar')\n",
    "mpld3.display()"
   ]
  },
  {
   "cell_type": "code",
   "execution_count": 63,
   "metadata": {
    "collapsed": true
   },
   "outputs": [],
   "source": [
    "laguardia_yellow_terminal_counts = count_passengers(laguardia_yellow_dropoffs)\n",
    "laguardia_green_terminal_counts = count_passengers(laguardia_green_dropoffs)\n",
    "total_laguardia_counts = laguardia_green_terminal_counts + laguardia_yellow_terminal_counts"
   ]
  },
  {
   "cell_type": "code",
   "execution_count": 64,
   "metadata": {
    "collapsed": false
   },
   "outputs": [
    {
     "data": {
      "text/plain": [
       "terminal_c    382164.0\n",
       "terminal_b    846503.0\n",
       "terminal_d    278406.0\n",
       "terminal_a     96282.0\n",
       "Name: terminal, dtype: float64"
      ]
     },
     "execution_count": 64,
     "metadata": {},
     "output_type": "execute_result"
    }
   ],
   "source": [
    "total_laguardia_counts"
   ]
  },
  {
   "cell_type": "code",
   "execution_count": 65,
   "metadata": {
    "collapsed": false
   },
   "outputs": [
    {
     "data": {
      "text/html": [
       "\n",
       "\n",
       "<style>\n",
       "\n",
       "</style>\n",
       "\n",
       "<div id=\"fig_el5326255227095209298203984\"></div>\n",
       "<script>\n",
       "function mpld3_load_lib(url, callback){\n",
       "  var s = document.createElement('script');\n",
       "  s.src = url;\n",
       "  s.async = true;\n",
       "  s.onreadystatechange = s.onload = callback;\n",
       "  s.onerror = function(){console.warn(\"failed to load library \" + url);};\n",
       "  document.getElementsByTagName(\"head\")[0].appendChild(s);\n",
       "}\n",
       "\n",
       "if(typeof(mpld3) !== \"undefined\" && mpld3._mpld3IsLoaded){\n",
       "   // already loaded: just create the figure\n",
       "   !function(mpld3){\n",
       "       \n",
       "       mpld3.draw_figure(\"fig_el5326255227095209298203984\", {\"axes\": [{\"xlim\": [-0.5, 3.5], \"yscale\": \"linear\", \"axesbg\": \"#FFFFFF\", \"texts\": [], \"zoomable\": true, \"images\": [], \"xdomain\": [-0.5, 3.5], \"ylim\": [0.0, 900000.0], \"paths\": [{\"edgecolor\": \"#000000\", \"facecolor\": \"#0000FF\", \"edgewidth\": 1.0, \"pathcodes\": [\"M\", \"L\", \"L\", \"L\", \"Z\"], \"yindex\": 1, \"coordinates\": \"data\", \"dasharray\": \"none\", \"zorder\": 1, \"alpha\": 1, \"xindex\": 0, \"data\": \"data01\", \"id\": \"el532625321119824\"}, {\"edgecolor\": \"#000000\", \"facecolor\": \"#0000FF\", \"edgewidth\": 1.0, \"pathcodes\": [\"M\", \"L\", \"L\", \"L\", \"Z\"], \"yindex\": 1, \"coordinates\": \"data\", \"dasharray\": \"none\", \"zorder\": 1, \"alpha\": 1, \"xindex\": 0, \"data\": \"data02\", \"id\": \"el532624721473168\"}, {\"edgecolor\": \"#000000\", \"facecolor\": \"#0000FF\", \"edgewidth\": 1.0, \"pathcodes\": [\"M\", \"L\", \"L\", \"L\", \"Z\"], \"yindex\": 1, \"coordinates\": \"data\", \"dasharray\": \"none\", \"zorder\": 1, \"alpha\": 1, \"xindex\": 0, \"data\": \"data03\", \"id\": \"el532625321071504\"}, {\"edgecolor\": \"#000000\", \"facecolor\": \"#0000FF\", \"edgewidth\": 1.0, \"pathcodes\": [\"M\", \"L\", \"L\", \"L\", \"Z\"], \"yindex\": 1, \"coordinates\": \"data\", \"dasharray\": \"none\", \"zorder\": 1, \"alpha\": 1, \"xindex\": 0, \"data\": \"data04\", \"id\": \"el532625321069840\"}], \"sharey\": [], \"sharex\": [], \"axesbgalpha\": null, \"axes\": [{\"scale\": \"linear\", \"tickformat\": [\"terminal_c\", \"terminal_b\", \"terminal_d\", \"terminal_a\"], \"grid\": {\"gridOn\": false}, \"visible\": true, \"fontsize\": 12.0, \"position\": \"bottom\", \"nticks\": 4, \"tickvalues\": [0, 1, 2, 3]}, {\"scale\": \"linear\", \"tickformat\": null, \"grid\": {\"gridOn\": false}, \"visible\": true, \"fontsize\": 12.0, \"position\": \"left\", \"nticks\": 10, \"tickvalues\": null}], \"lines\": [], \"markers\": [], \"id\": \"el532625391282384\", \"ydomain\": [0.0, 900000.0], \"collections\": [], \"xscale\": \"linear\", \"bbox\": [0.125, 0.099999999999999978, 0.77500000000000002, 0.80000000000000004]}], \"height\": 480.0, \"width\": 640.0, \"plugins\": [{\"type\": \"reset\"}, {\"enabled\": false, \"button\": true, \"type\": \"zoom\"}, {\"enabled\": false, \"button\": true, \"type\": \"boxzoom\"}], \"data\": {\"data04\": [[2.75, 0.0], [3.25, 0.0], [3.25, 96282.0], [2.75, 96282.0]], \"data02\": [[0.75, 0.0], [1.25, 0.0], [1.25, 846503.0], [0.75, 846503.0]], \"data03\": [[1.75, 0.0], [2.25, 0.0], [2.25, 278406.0], [1.75, 278406.0]], \"data01\": [[-0.25, 0.0], [0.25, 0.0], [0.25, 382164.0], [-0.25, 382164.0]]}, \"id\": \"el532625522709520\"});\n",
       "   }(mpld3);\n",
       "}else if(typeof define === \"function\" && define.amd){\n",
       "   // require.js is available: use it to load d3/mpld3\n",
       "   require.config({paths: {d3: \"https://mpld3.github.io/js/d3.v3.min\"}});\n",
       "   require([\"d3\"], function(d3){\n",
       "      window.d3 = d3;\n",
       "      mpld3_load_lib(\"https://mpld3.github.io/js/mpld3.v0.3.js\", function(){\n",
       "         \n",
       "         mpld3.draw_figure(\"fig_el5326255227095209298203984\", {\"axes\": [{\"xlim\": [-0.5, 3.5], \"yscale\": \"linear\", \"axesbg\": \"#FFFFFF\", \"texts\": [], \"zoomable\": true, \"images\": [], \"xdomain\": [-0.5, 3.5], \"ylim\": [0.0, 900000.0], \"paths\": [{\"edgecolor\": \"#000000\", \"facecolor\": \"#0000FF\", \"edgewidth\": 1.0, \"pathcodes\": [\"M\", \"L\", \"L\", \"L\", \"Z\"], \"yindex\": 1, \"coordinates\": \"data\", \"dasharray\": \"none\", \"zorder\": 1, \"alpha\": 1, \"xindex\": 0, \"data\": \"data01\", \"id\": \"el532625321119824\"}, {\"edgecolor\": \"#000000\", \"facecolor\": \"#0000FF\", \"edgewidth\": 1.0, \"pathcodes\": [\"M\", \"L\", \"L\", \"L\", \"Z\"], \"yindex\": 1, \"coordinates\": \"data\", \"dasharray\": \"none\", \"zorder\": 1, \"alpha\": 1, \"xindex\": 0, \"data\": \"data02\", \"id\": \"el532624721473168\"}, {\"edgecolor\": \"#000000\", \"facecolor\": \"#0000FF\", \"edgewidth\": 1.0, \"pathcodes\": [\"M\", \"L\", \"L\", \"L\", \"Z\"], \"yindex\": 1, \"coordinates\": \"data\", \"dasharray\": \"none\", \"zorder\": 1, \"alpha\": 1, \"xindex\": 0, \"data\": \"data03\", \"id\": \"el532625321071504\"}, {\"edgecolor\": \"#000000\", \"facecolor\": \"#0000FF\", \"edgewidth\": 1.0, \"pathcodes\": [\"M\", \"L\", \"L\", \"L\", \"Z\"], \"yindex\": 1, \"coordinates\": \"data\", \"dasharray\": \"none\", \"zorder\": 1, \"alpha\": 1, \"xindex\": 0, \"data\": \"data04\", \"id\": \"el532625321069840\"}], \"sharey\": [], \"sharex\": [], \"axesbgalpha\": null, \"axes\": [{\"scale\": \"linear\", \"tickformat\": [\"terminal_c\", \"terminal_b\", \"terminal_d\", \"terminal_a\"], \"grid\": {\"gridOn\": false}, \"visible\": true, \"fontsize\": 12.0, \"position\": \"bottom\", \"nticks\": 4, \"tickvalues\": [0, 1, 2, 3]}, {\"scale\": \"linear\", \"tickformat\": null, \"grid\": {\"gridOn\": false}, \"visible\": true, \"fontsize\": 12.0, \"position\": \"left\", \"nticks\": 10, \"tickvalues\": null}], \"lines\": [], \"markers\": [], \"id\": \"el532625391282384\", \"ydomain\": [0.0, 900000.0], \"collections\": [], \"xscale\": \"linear\", \"bbox\": [0.125, 0.099999999999999978, 0.77500000000000002, 0.80000000000000004]}], \"height\": 480.0, \"width\": 640.0, \"plugins\": [{\"type\": \"reset\"}, {\"enabled\": false, \"button\": true, \"type\": \"zoom\"}, {\"enabled\": false, \"button\": true, \"type\": \"boxzoom\"}], \"data\": {\"data04\": [[2.75, 0.0], [3.25, 0.0], [3.25, 96282.0], [2.75, 96282.0]], \"data02\": [[0.75, 0.0], [1.25, 0.0], [1.25, 846503.0], [0.75, 846503.0]], \"data03\": [[1.75, 0.0], [2.25, 0.0], [2.25, 278406.0], [1.75, 278406.0]], \"data01\": [[-0.25, 0.0], [0.25, 0.0], [0.25, 382164.0], [-0.25, 382164.0]]}, \"id\": \"el532625522709520\"});\n",
       "      });\n",
       "    });\n",
       "}else{\n",
       "    // require.js not available: dynamically load d3 & mpld3\n",
       "    mpld3_load_lib(\"https://mpld3.github.io/js/d3.v3.min.js\", function(){\n",
       "         mpld3_load_lib(\"https://mpld3.github.io/js/mpld3.v0.3.js\", function(){\n",
       "                 \n",
       "                 mpld3.draw_figure(\"fig_el5326255227095209298203984\", {\"axes\": [{\"xlim\": [-0.5, 3.5], \"yscale\": \"linear\", \"axesbg\": \"#FFFFFF\", \"texts\": [], \"zoomable\": true, \"images\": [], \"xdomain\": [-0.5, 3.5], \"ylim\": [0.0, 900000.0], \"paths\": [{\"edgecolor\": \"#000000\", \"facecolor\": \"#0000FF\", \"edgewidth\": 1.0, \"pathcodes\": [\"M\", \"L\", \"L\", \"L\", \"Z\"], \"yindex\": 1, \"coordinates\": \"data\", \"dasharray\": \"none\", \"zorder\": 1, \"alpha\": 1, \"xindex\": 0, \"data\": \"data01\", \"id\": \"el532625321119824\"}, {\"edgecolor\": \"#000000\", \"facecolor\": \"#0000FF\", \"edgewidth\": 1.0, \"pathcodes\": [\"M\", \"L\", \"L\", \"L\", \"Z\"], \"yindex\": 1, \"coordinates\": \"data\", \"dasharray\": \"none\", \"zorder\": 1, \"alpha\": 1, \"xindex\": 0, \"data\": \"data02\", \"id\": \"el532624721473168\"}, {\"edgecolor\": \"#000000\", \"facecolor\": \"#0000FF\", \"edgewidth\": 1.0, \"pathcodes\": [\"M\", \"L\", \"L\", \"L\", \"Z\"], \"yindex\": 1, \"coordinates\": \"data\", \"dasharray\": \"none\", \"zorder\": 1, \"alpha\": 1, \"xindex\": 0, \"data\": \"data03\", \"id\": \"el532625321071504\"}, {\"edgecolor\": \"#000000\", \"facecolor\": \"#0000FF\", \"edgewidth\": 1.0, \"pathcodes\": [\"M\", \"L\", \"L\", \"L\", \"Z\"], \"yindex\": 1, \"coordinates\": \"data\", \"dasharray\": \"none\", \"zorder\": 1, \"alpha\": 1, \"xindex\": 0, \"data\": \"data04\", \"id\": \"el532625321069840\"}], \"sharey\": [], \"sharex\": [], \"axesbgalpha\": null, \"axes\": [{\"scale\": \"linear\", \"tickformat\": [\"terminal_c\", \"terminal_b\", \"terminal_d\", \"terminal_a\"], \"grid\": {\"gridOn\": false}, \"visible\": true, \"fontsize\": 12.0, \"position\": \"bottom\", \"nticks\": 4, \"tickvalues\": [0, 1, 2, 3]}, {\"scale\": \"linear\", \"tickformat\": null, \"grid\": {\"gridOn\": false}, \"visible\": true, \"fontsize\": 12.0, \"position\": \"left\", \"nticks\": 10, \"tickvalues\": null}], \"lines\": [], \"markers\": [], \"id\": \"el532625391282384\", \"ydomain\": [0.0, 900000.0], \"collections\": [], \"xscale\": \"linear\", \"bbox\": [0.125, 0.099999999999999978, 0.77500000000000002, 0.80000000000000004]}], \"height\": 480.0, \"width\": 640.0, \"plugins\": [{\"type\": \"reset\"}, {\"enabled\": false, \"button\": true, \"type\": \"zoom\"}, {\"enabled\": false, \"button\": true, \"type\": \"boxzoom\"}], \"data\": {\"data04\": [[2.75, 0.0], [3.25, 0.0], [3.25, 96282.0], [2.75, 96282.0]], \"data02\": [[0.75, 0.0], [1.25, 0.0], [1.25, 846503.0], [0.75, 846503.0]], \"data03\": [[1.75, 0.0], [2.25, 0.0], [2.25, 278406.0], [1.75, 278406.0]], \"data01\": [[-0.25, 0.0], [0.25, 0.0], [0.25, 382164.0], [-0.25, 382164.0]]}, \"id\": \"el532625522709520\"});\n",
       "            })\n",
       "         });\n",
       "}\n",
       "</script>"
      ],
      "text/plain": [
       "<IPython.core.display.HTML object>"
      ]
     },
     "execution_count": 65,
     "metadata": {},
     "output_type": "execute_result"
    }
   ],
   "source": [
    "plt = total_laguardia_counts.plot(kind='bar')\n",
    "mpld3.display()"
   ]
  },
  {
   "cell_type": "code",
   "execution_count": 66,
   "metadata": {
    "collapsed": true
   },
   "outputs": [],
   "source": [
    "jfk_yellow_terminal_counts = count_passengers(jfk_yellow_dropoffs)\n",
    "jfk_green_terminal_counts = count_passengers(jfk_green_dropoffs)\n",
    "total_jfk_counts = jfk_green_terminal_counts + jfk_yellow_terminal_counts"
   ]
  },
  {
   "cell_type": "code",
   "execution_count": 67,
   "metadata": {
    "collapsed": false
   },
   "outputs": [
    {
     "data": {
      "text/html": [
       "\n",
       "\n",
       "<style>\n",
       "\n",
       "</style>\n",
       "\n",
       "<div id=\"fig_el5326247407042724857356705\"></div>\n",
       "<script>\n",
       "function mpld3_load_lib(url, callback){\n",
       "  var s = document.createElement('script');\n",
       "  s.src = url;\n",
       "  s.async = true;\n",
       "  s.onreadystatechange = s.onload = callback;\n",
       "  s.onerror = function(){console.warn(\"failed to load library \" + url);};\n",
       "  document.getElementsByTagName(\"head\")[0].appendChild(s);\n",
       "}\n",
       "\n",
       "if(typeof(mpld3) !== \"undefined\" && mpld3._mpld3IsLoaded){\n",
       "   // already loaded: just create the figure\n",
       "   !function(mpld3){\n",
       "       \n",
       "       mpld3.draw_figure(\"fig_el5326247407042724857356705\", {\"axes\": [{\"xlim\": [-0.5, 5.5], \"yscale\": \"linear\", \"axesbg\": \"#FFFFFF\", \"texts\": [], \"zoomable\": true, \"images\": [], \"xdomain\": [-0.5, 5.5], \"ylim\": [0.0, 350000.0], \"paths\": [{\"edgecolor\": \"#000000\", \"facecolor\": \"#0000FF\", \"edgewidth\": 1.0, \"pathcodes\": [\"M\", \"L\", \"L\", \"L\", \"Z\"], \"yindex\": 1, \"coordinates\": \"data\", \"dasharray\": \"none\", \"zorder\": 1, \"alpha\": 1, \"xindex\": 0, \"data\": \"data01\", \"id\": \"el532625404453264\"}, {\"edgecolor\": \"#000000\", \"facecolor\": \"#0000FF\", \"edgewidth\": 1.0, \"pathcodes\": [\"M\", \"L\", \"L\", \"L\", \"Z\"], \"yindex\": 1, \"coordinates\": \"data\", \"dasharray\": \"none\", \"zorder\": 1, \"alpha\": 1, \"xindex\": 0, \"data\": \"data02\", \"id\": \"el532624721473104\"}, {\"edgecolor\": \"#000000\", \"facecolor\": \"#0000FF\", \"edgewidth\": 1.0, \"pathcodes\": [\"M\", \"L\", \"L\", \"L\", \"Z\"], \"yindex\": 1, \"coordinates\": \"data\", \"dasharray\": \"none\", \"zorder\": 1, \"alpha\": 1, \"xindex\": 0, \"data\": \"data03\", \"id\": \"el532625402224208\"}, {\"edgecolor\": \"#000000\", \"facecolor\": \"#0000FF\", \"edgewidth\": 1.0, \"pathcodes\": [\"M\", \"L\", \"L\", \"L\", \"Z\"], \"yindex\": 1, \"coordinates\": \"data\", \"dasharray\": \"none\", \"zorder\": 1, \"alpha\": 1, \"xindex\": 0, \"data\": \"data04\", \"id\": \"el532625402225872\"}, {\"edgecolor\": \"#000000\", \"facecolor\": \"#0000FF\", \"edgewidth\": 1.0, \"pathcodes\": [\"M\", \"L\", \"L\", \"L\", \"Z\"], \"yindex\": 1, \"coordinates\": \"data\", \"dasharray\": \"none\", \"zorder\": 1, \"alpha\": 1, \"xindex\": 0, \"data\": \"data05\", \"id\": \"el532625402235792\"}, {\"edgecolor\": \"#000000\", \"facecolor\": \"#0000FF\", \"edgewidth\": 1.0, \"pathcodes\": [\"M\", \"L\", \"L\", \"L\", \"Z\"], \"yindex\": 1, \"coordinates\": \"data\", \"dasharray\": \"none\", \"zorder\": 1, \"alpha\": 1, \"xindex\": 0, \"data\": \"data06\", \"id\": \"el532625402237456\"}], \"sharey\": [], \"sharex\": [], \"axesbgalpha\": null, \"axes\": [{\"scale\": \"linear\", \"tickformat\": [\"terminal_1\", \"terminal_2\", \"terminal_4\", \"terminal_5\", \"terminal_7\", \"terminal_8\"], \"grid\": {\"gridOn\": false}, \"visible\": true, \"fontsize\": 12.0, \"position\": \"bottom\", \"nticks\": 6, \"tickvalues\": [0, 1, 2, 3, 4, 5]}, {\"scale\": \"linear\", \"tickformat\": null, \"grid\": {\"gridOn\": false}, \"visible\": true, \"fontsize\": 12.0, \"position\": \"left\", \"nticks\": 8, \"tickvalues\": null}], \"lines\": [], \"markers\": [], \"id\": \"el532625297434256\", \"ydomain\": [0.0, 350000.0], \"collections\": [], \"xscale\": \"linear\", \"bbox\": [0.125, 0.099999999999999978, 0.77500000000000002, 0.80000000000000004]}], \"height\": 480.0, \"width\": 640.0, \"plugins\": [{\"type\": \"reset\"}, {\"enabled\": false, \"button\": true, \"type\": \"zoom\"}, {\"enabled\": false, \"button\": true, \"type\": \"boxzoom\"}], \"data\": {\"data06\": [[4.75, 0.0], [5.25, 0.0], [5.25, 255764.0], [4.75, 255764.0]], \"data04\": [[2.75, 0.0], [3.25, 0.0], [3.25, 183052.0], [2.75, 183052.0]], \"data05\": [[3.75, 0.0], [4.25, 0.0], [4.25, 113307.0], [3.75, 113307.0]], \"data02\": [[0.75, 0.0], [1.25, 0.0], [1.25, 61657.0], [0.75, 61657.0]], \"data03\": [[1.75, 0.0], [2.25, 0.0], [2.25, 320670.0], [1.75, 320670.0]], \"data01\": [[-0.25, 0.0], [0.25, 0.0], [0.25, 180306.0], [-0.25, 180306.0]]}, \"id\": \"el532624740704272\"});\n",
       "   }(mpld3);\n",
       "}else if(typeof define === \"function\" && define.amd){\n",
       "   // require.js is available: use it to load d3/mpld3\n",
       "   require.config({paths: {d3: \"https://mpld3.github.io/js/d3.v3.min\"}});\n",
       "   require([\"d3\"], function(d3){\n",
       "      window.d3 = d3;\n",
       "      mpld3_load_lib(\"https://mpld3.github.io/js/mpld3.v0.3.js\", function(){\n",
       "         \n",
       "         mpld3.draw_figure(\"fig_el5326247407042724857356705\", {\"axes\": [{\"xlim\": [-0.5, 5.5], \"yscale\": \"linear\", \"axesbg\": \"#FFFFFF\", \"texts\": [], \"zoomable\": true, \"images\": [], \"xdomain\": [-0.5, 5.5], \"ylim\": [0.0, 350000.0], \"paths\": [{\"edgecolor\": \"#000000\", \"facecolor\": \"#0000FF\", \"edgewidth\": 1.0, \"pathcodes\": [\"M\", \"L\", \"L\", \"L\", \"Z\"], \"yindex\": 1, \"coordinates\": \"data\", \"dasharray\": \"none\", \"zorder\": 1, \"alpha\": 1, \"xindex\": 0, \"data\": \"data01\", \"id\": \"el532625404453264\"}, {\"edgecolor\": \"#000000\", \"facecolor\": \"#0000FF\", \"edgewidth\": 1.0, \"pathcodes\": [\"M\", \"L\", \"L\", \"L\", \"Z\"], \"yindex\": 1, \"coordinates\": \"data\", \"dasharray\": \"none\", \"zorder\": 1, \"alpha\": 1, \"xindex\": 0, \"data\": \"data02\", \"id\": \"el532624721473104\"}, {\"edgecolor\": \"#000000\", \"facecolor\": \"#0000FF\", \"edgewidth\": 1.0, \"pathcodes\": [\"M\", \"L\", \"L\", \"L\", \"Z\"], \"yindex\": 1, \"coordinates\": \"data\", \"dasharray\": \"none\", \"zorder\": 1, \"alpha\": 1, \"xindex\": 0, \"data\": \"data03\", \"id\": \"el532625402224208\"}, {\"edgecolor\": \"#000000\", \"facecolor\": \"#0000FF\", \"edgewidth\": 1.0, \"pathcodes\": [\"M\", \"L\", \"L\", \"L\", \"Z\"], \"yindex\": 1, \"coordinates\": \"data\", \"dasharray\": \"none\", \"zorder\": 1, \"alpha\": 1, \"xindex\": 0, \"data\": \"data04\", \"id\": \"el532625402225872\"}, {\"edgecolor\": \"#000000\", \"facecolor\": \"#0000FF\", \"edgewidth\": 1.0, \"pathcodes\": [\"M\", \"L\", \"L\", \"L\", \"Z\"], \"yindex\": 1, \"coordinates\": \"data\", \"dasharray\": \"none\", \"zorder\": 1, \"alpha\": 1, \"xindex\": 0, \"data\": \"data05\", \"id\": \"el532625402235792\"}, {\"edgecolor\": \"#000000\", \"facecolor\": \"#0000FF\", \"edgewidth\": 1.0, \"pathcodes\": [\"M\", \"L\", \"L\", \"L\", \"Z\"], \"yindex\": 1, \"coordinates\": \"data\", \"dasharray\": \"none\", \"zorder\": 1, \"alpha\": 1, \"xindex\": 0, \"data\": \"data06\", \"id\": \"el532625402237456\"}], \"sharey\": [], \"sharex\": [], \"axesbgalpha\": null, \"axes\": [{\"scale\": \"linear\", \"tickformat\": [\"terminal_1\", \"terminal_2\", \"terminal_4\", \"terminal_5\", \"terminal_7\", \"terminal_8\"], \"grid\": {\"gridOn\": false}, \"visible\": true, \"fontsize\": 12.0, \"position\": \"bottom\", \"nticks\": 6, \"tickvalues\": [0, 1, 2, 3, 4, 5]}, {\"scale\": \"linear\", \"tickformat\": null, \"grid\": {\"gridOn\": false}, \"visible\": true, \"fontsize\": 12.0, \"position\": \"left\", \"nticks\": 8, \"tickvalues\": null}], \"lines\": [], \"markers\": [], \"id\": \"el532625297434256\", \"ydomain\": [0.0, 350000.0], \"collections\": [], \"xscale\": \"linear\", \"bbox\": [0.125, 0.099999999999999978, 0.77500000000000002, 0.80000000000000004]}], \"height\": 480.0, \"width\": 640.0, \"plugins\": [{\"type\": \"reset\"}, {\"enabled\": false, \"button\": true, \"type\": \"zoom\"}, {\"enabled\": false, \"button\": true, \"type\": \"boxzoom\"}], \"data\": {\"data06\": [[4.75, 0.0], [5.25, 0.0], [5.25, 255764.0], [4.75, 255764.0]], \"data04\": [[2.75, 0.0], [3.25, 0.0], [3.25, 183052.0], [2.75, 183052.0]], \"data05\": [[3.75, 0.0], [4.25, 0.0], [4.25, 113307.0], [3.75, 113307.0]], \"data02\": [[0.75, 0.0], [1.25, 0.0], [1.25, 61657.0], [0.75, 61657.0]], \"data03\": [[1.75, 0.0], [2.25, 0.0], [2.25, 320670.0], [1.75, 320670.0]], \"data01\": [[-0.25, 0.0], [0.25, 0.0], [0.25, 180306.0], [-0.25, 180306.0]]}, \"id\": \"el532624740704272\"});\n",
       "      });\n",
       "    });\n",
       "}else{\n",
       "    // require.js not available: dynamically load d3 & mpld3\n",
       "    mpld3_load_lib(\"https://mpld3.github.io/js/d3.v3.min.js\", function(){\n",
       "         mpld3_load_lib(\"https://mpld3.github.io/js/mpld3.v0.3.js\", function(){\n",
       "                 \n",
       "                 mpld3.draw_figure(\"fig_el5326247407042724857356705\", {\"axes\": [{\"xlim\": [-0.5, 5.5], \"yscale\": \"linear\", \"axesbg\": \"#FFFFFF\", \"texts\": [], \"zoomable\": true, \"images\": [], \"xdomain\": [-0.5, 5.5], \"ylim\": [0.0, 350000.0], \"paths\": [{\"edgecolor\": \"#000000\", \"facecolor\": \"#0000FF\", \"edgewidth\": 1.0, \"pathcodes\": [\"M\", \"L\", \"L\", \"L\", \"Z\"], \"yindex\": 1, \"coordinates\": \"data\", \"dasharray\": \"none\", \"zorder\": 1, \"alpha\": 1, \"xindex\": 0, \"data\": \"data01\", \"id\": \"el532625404453264\"}, {\"edgecolor\": \"#000000\", \"facecolor\": \"#0000FF\", \"edgewidth\": 1.0, \"pathcodes\": [\"M\", \"L\", \"L\", \"L\", \"Z\"], \"yindex\": 1, \"coordinates\": \"data\", \"dasharray\": \"none\", \"zorder\": 1, \"alpha\": 1, \"xindex\": 0, \"data\": \"data02\", \"id\": \"el532624721473104\"}, {\"edgecolor\": \"#000000\", \"facecolor\": \"#0000FF\", \"edgewidth\": 1.0, \"pathcodes\": [\"M\", \"L\", \"L\", \"L\", \"Z\"], \"yindex\": 1, \"coordinates\": \"data\", \"dasharray\": \"none\", \"zorder\": 1, \"alpha\": 1, \"xindex\": 0, \"data\": \"data03\", \"id\": \"el532625402224208\"}, {\"edgecolor\": \"#000000\", \"facecolor\": \"#0000FF\", \"edgewidth\": 1.0, \"pathcodes\": [\"M\", \"L\", \"L\", \"L\", \"Z\"], \"yindex\": 1, \"coordinates\": \"data\", \"dasharray\": \"none\", \"zorder\": 1, \"alpha\": 1, \"xindex\": 0, \"data\": \"data04\", \"id\": \"el532625402225872\"}, {\"edgecolor\": \"#000000\", \"facecolor\": \"#0000FF\", \"edgewidth\": 1.0, \"pathcodes\": [\"M\", \"L\", \"L\", \"L\", \"Z\"], \"yindex\": 1, \"coordinates\": \"data\", \"dasharray\": \"none\", \"zorder\": 1, \"alpha\": 1, \"xindex\": 0, \"data\": \"data05\", \"id\": \"el532625402235792\"}, {\"edgecolor\": \"#000000\", \"facecolor\": \"#0000FF\", \"edgewidth\": 1.0, \"pathcodes\": [\"M\", \"L\", \"L\", \"L\", \"Z\"], \"yindex\": 1, \"coordinates\": \"data\", \"dasharray\": \"none\", \"zorder\": 1, \"alpha\": 1, \"xindex\": 0, \"data\": \"data06\", \"id\": \"el532625402237456\"}], \"sharey\": [], \"sharex\": [], \"axesbgalpha\": null, \"axes\": [{\"scale\": \"linear\", \"tickformat\": [\"terminal_1\", \"terminal_2\", \"terminal_4\", \"terminal_5\", \"terminal_7\", \"terminal_8\"], \"grid\": {\"gridOn\": false}, \"visible\": true, \"fontsize\": 12.0, \"position\": \"bottom\", \"nticks\": 6, \"tickvalues\": [0, 1, 2, 3, 4, 5]}, {\"scale\": \"linear\", \"tickformat\": null, \"grid\": {\"gridOn\": false}, \"visible\": true, \"fontsize\": 12.0, \"position\": \"left\", \"nticks\": 8, \"tickvalues\": null}], \"lines\": [], \"markers\": [], \"id\": \"el532625297434256\", \"ydomain\": [0.0, 350000.0], \"collections\": [], \"xscale\": \"linear\", \"bbox\": [0.125, 0.099999999999999978, 0.77500000000000002, 0.80000000000000004]}], \"height\": 480.0, \"width\": 640.0, \"plugins\": [{\"type\": \"reset\"}, {\"enabled\": false, \"button\": true, \"type\": \"zoom\"}, {\"enabled\": false, \"button\": true, \"type\": \"boxzoom\"}], \"data\": {\"data06\": [[4.75, 0.0], [5.25, 0.0], [5.25, 255764.0], [4.75, 255764.0]], \"data04\": [[2.75, 0.0], [3.25, 0.0], [3.25, 183052.0], [2.75, 183052.0]], \"data05\": [[3.75, 0.0], [4.25, 0.0], [4.25, 113307.0], [3.75, 113307.0]], \"data02\": [[0.75, 0.0], [1.25, 0.0], [1.25, 61657.0], [0.75, 61657.0]], \"data03\": [[1.75, 0.0], [2.25, 0.0], [2.25, 320670.0], [1.75, 320670.0]], \"data01\": [[-0.25, 0.0], [0.25, 0.0], [0.25, 180306.0], [-0.25, 180306.0]]}, \"id\": \"el532624740704272\"});\n",
       "            })\n",
       "         });\n",
       "}\n",
       "</script>"
      ],
      "text/plain": [
       "<IPython.core.display.HTML object>"
      ]
     },
     "execution_count": 67,
     "metadata": {},
     "output_type": "execute_result"
    }
   ],
   "source": [
    "plt = total_jfk_counts.plot(kind='bar')\n",
    "mpld3.display()"
   ]
  },
  {
   "cell_type": "code",
   "execution_count": 68,
   "metadata": {
    "collapsed": false
   },
   "outputs": [
    {
     "data": {
      "text/plain": [
       "terminal_1    180306.0\n",
       "terminal_2     61657.0\n",
       "terminal_4    320670.0\n",
       "terminal_5    183052.0\n",
       "terminal_7    113307.0\n",
       "terminal_8    255764.0\n",
       "Name: terminal, dtype: float64"
      ]
     },
     "execution_count": 68,
     "metadata": {},
     "output_type": "execute_result"
    }
   ],
   "source": [
    "total_jfk_counts"
   ]
  },
  {
   "cell_type": "code",
   "execution_count": 91,
   "metadata": {
    "collapsed": false
   },
   "outputs": [],
   "source": [
    "def add_counts(total_dropoff_count, dropoff_counts, terminal_airline_list):\n",
    "    average_dropoff_count = total_dropoff_count/len(terminal_airline_list)\n",
    "    for airline in terminal_airline_list:\n",
    "        dropoff_counts[airline] += average_dropoff_count\n",
    "    return dropoff_counts"
   ]
  },
  {
   "cell_type": "code",
   "execution_count": 107,
   "metadata": {
    "collapsed": true
   },
   "outputs": [],
   "source": [
    "def make_airline_array(raw_string):\n",
    "    return raw_string.split('\\n')"
   ]
  },
  {
   "cell_type": "code",
   "execution_count": 108,
   "metadata": {
    "collapsed": false
   },
   "outputs": [],
   "source": [
    "dropoff_counts = add_counts(50795, Counter(), [\n",
    "            'Southwest',\n",
    "            'Air Canada',\n",
    "            'Virgin America',\n",
    "            'JetBlue Airways',\n",
    "            'American',\n",
    "            'Alaska'\n",
    "        ])"
   ]
  },
  {
   "cell_type": "code",
   "execution_count": 109,
   "metadata": {
    "collapsed": false
   },
   "outputs": [],
   "source": [
    "dropoff_counts = add_counts(50937, dropoff_counts, [\n",
    "            'Austrian',\n",
    "            'Cathay Pacific Airways',\n",
    "            'TAP Air Portugal',\n",
    "            'Allegiant Air',\n",
    "            'OpenSkies',\n",
    "            'Aer Lingus',\n",
    "            'Porter',\n",
    "            'Delta',\n",
    "            'SAS Scandinavian',\n",
    "            'Spirit',\n",
    "            'Swiss International',\n",
    "            'Virgin Atlantic Airways',\n",
    "            'Ethiopian',\n",
    "            'Wow Air',\n",
    "            'Lufthansa',\n",
    "            'Air India',\n",
    "            'El Al',\n",
    "            'Icelandair',\n",
    "            'Air China',\n",
    "            'British Airways'\n",
    "        ])"
   ]
  },
  {
   "cell_type": "code",
   "execution_count": 110,
   "metadata": {
    "collapsed": false
   },
   "outputs": [],
   "source": [
    "dropoff_counts = add_counts(108937, dropoff_counts, ['United'] )"
   ]
  },
  {
   "cell_type": "code",
   "execution_count": 111,
   "metadata": {
    "collapsed": false
   },
   "outputs": [],
   "source": [
    "dropoff_counts = add_counts(96282, dropoff_counts, ['Delta'] )"
   ]
  },
  {
   "cell_type": "code",
   "execution_count": 112,
   "metadata": {
    "collapsed": false
   },
   "outputs": [],
   "source": [
    "dropoff_counts = add_counts(846503 , dropoff_counts, make_airline_array(\"\"\"American\n",
    "JetBlue\n",
    "Spirit\n",
    "Southwest\n",
    "Air Canada\n",
    "Virgin America\n",
    "Frontier\n",
    "United\"\"\"))"
   ]
  },
  {
   "cell_type": "code",
   "execution_count": 113,
   "metadata": {
    "collapsed": true
   },
   "outputs": [],
   "source": [
    "dropoff_counts = add_counts(382164, dropoff_counts, make_airline_array(\"\"\"Delta\n",
    "America\"\"\"))"
   ]
  },
  {
   "cell_type": "code",
   "execution_count": 114,
   "metadata": {
    "collapsed": true
   },
   "outputs": [],
   "source": [
    "dropoff_counts = add_counts(278406, dropoff_counts, make_airline_array(\"\"\"Delta\n",
    "WestJet\"\"\"))"
   ]
  },
  {
   "cell_type": "code",
   "execution_count": 115,
   "metadata": {
    "collapsed": true
   },
   "outputs": [],
   "source": [
    "dropoff_counts = add_counts(180306, dropoff_counts, make_airline_array(\"\"\"Cayman Airways\n",
    "Air France\n",
    "Norwegian Air Shuttle\n",
    "Azerbaijan Hava Yollary\n",
    "Fly Jamaica\n",
    "Saudia\n",
    "Austrian\n",
    "Aeromexico\n",
    "Turkish\n",
    "EVA Air\n",
    "Interjet\n",
    "Alitalia\n",
    "Japan\n",
    "Aeroflot Russian\n",
    "Korean Air Lines\n",
    "Brussels\n",
    "China Eastern\n",
    "Lufthansa\n",
    "Air China\n",
    "Meridiana\n",
    "Philippine\n",
    "Royal Air Maroc\"\"\"))"
   ]
  },
  {
   "cell_type": "code",
   "execution_count": 116,
   "metadata": {
    "collapsed": true
   },
   "outputs": [],
   "source": [
    "dropoff_counts = add_counts(61657, dropoff_counts, make_airline_array(\"\"\"Delta\"\"\"))"
   ]
  },
  {
   "cell_type": "code",
   "execution_count": 117,
   "metadata": {
    "collapsed": true
   },
   "outputs": [],
   "source": [
    "dropoff_counts = add_counts(320670, dropoff_counts, make_airline_array(\"\"\"Air Serbia\n",
    "Arik Air\n",
    "El Al\n",
    "Volaris\n",
    "Egyptair\n",
    "Air Jamaica\n",
    "XL Airways\n",
    "China\n",
    "Thomas Cook\n",
    "Uzbekistan\n",
    "Air Europa\n",
    "Virgin America\n",
    "Singapore\n",
    "Etihad\n",
    "China Southern\n",
    "Avianca\n",
    "Virgin Atlantic Airways\n",
    "Pakistan\n",
    "COPA\n",
    "Kuwait Airways\n",
    "Carribean\n",
    "Emirates\n",
    "KLM\n",
    "Asiana\n",
    "Sun Country\n",
    "Swiss International\n",
    "WestJet\n",
    "Air India\n",
    "Miami Air\n",
    "Delta\n",
    "South African Airways\"\"\"))"
   ]
  },
  {
   "cell_type": "code",
   "execution_count": 118,
   "metadata": {
    "collapsed": true
   },
   "outputs": [],
   "source": [
    "dropoff_counts = add_counts(183052, dropoff_counts, make_airline_array(\"\"\"JetBlue\n",
    "Hawaiian\n",
    "Aer Lingus\n",
    "TAP Air Portugal\"\"\"))"
   ]
  },
  {
   "cell_type": "code",
   "execution_count": 119,
   "metadata": {
    "collapsed": true
   },
   "outputs": [],
   "source": [
    "dropoff_counts = add_counts(113307, dropoff_counts, make_airline_array(\"\"\"Qatar Airways\n",
    "Ukraine International\n",
    "Cathay Pacific Airways\n",
    "Iberia\n",
    "Icelandair\n",
    "OpenSkies\n",
    "LOT Polish\n",
    "Qantas\n",
    "Interjet\n",
    "British Airways\n",
    "ANA\n",
    "Aerolineas Argentinas\"\"\"))"
   ]
  },
  {
   "cell_type": "code",
   "execution_count": 120,
   "metadata": {
    "collapsed": true
   },
   "outputs": [],
   "source": [
    "dropoff_counts = add_counts(255764, dropoff_counts, make_airline_array(\"\"\"American Eagle\n",
    "American\n",
    "Alaska\n",
    "Air Berlin\n",
    "Qatar Airways\n",
    "Royal Jordanian\n",
    "Finnair\"\"\"))"
   ]
  },
  {
   "cell_type": "code",
   "execution_count": 121,
   "metadata": {
    "collapsed": false
   },
   "outputs": [],
   "source": [
    "total_dropoffs = sum(dropoff_counts.values())"
   ]
  },
  {
   "cell_type": "code",
   "execution_count": 122,
   "metadata": {
    "collapsed": false,
    "scrolled": true
   },
   "outputs": [
    {
     "data": {
      "text/plain": [
       "[('Delta', 501114),\n",
       " ('United', 214749),\n",
       " ('America', 191082),\n",
       " ('JetBlue', 151575),\n",
       " ('American', 150814),\n",
       " ('WestJet', 149547),\n",
       " ('Virgin America', 124621),\n",
       " ('Southwest', 114277),\n",
       " ('Air Canada', 114277),\n",
       " ('Spirit', 108358),\n",
       " ('Frontier', 105812),\n",
       " ('TAP Air Portugal', 48309),\n",
       " ('Aer Lingus', 48309),\n",
       " ('Qatar Airways', 45979),\n",
       " ('Hawaiian', 45763),\n",
       " ('Alaska', 45002),\n",
       " ('Air Berlin', 36537),\n",
       " ('Finnair', 36537),\n",
       " ('Royal Jordanian', 36537),\n",
       " ('American Eagle', 36537),\n",
       " ('Interjet', 17637),\n",
       " ('Virgin Atlantic Airways', 12890),\n",
       " ('Air India', 12890),\n",
       " ('El Al', 12890),\n",
       " ('Swiss International', 12890),\n",
       " ('OpenSkies', 11988),\n",
       " ('British Airways', 11988),\n",
       " ('Icelandair', 11988),\n",
       " ('Cathay Pacific Airways', 11988),\n",
       " ('Austrian', 10741),\n",
       " ('Air China', 10741),\n",
       " ('Lufthansa', 10741),\n",
       " ('China Southern', 10344),\n",
       " ('Egyptair', 10344),\n",
       " ('Pakistan', 10344),\n",
       " ('Thomas Cook', 10344),\n",
       " ('Kuwait Airways', 10344),\n",
       " ('Singapore', 10344),\n",
       " ('China', 10344),\n",
       " ('Miami Air', 10344),\n",
       " ('Carribean', 10344),\n",
       " ('Air Serbia', 10344),\n",
       " ('Air Jamaica', 10344),\n",
       " ('Arik Air', 10344),\n",
       " ('XL Airways', 10344),\n",
       " ('South African Airways', 10344),\n",
       " ('Air Europa', 10344),\n",
       " ('Sun Country', 10344),\n",
       " ('Volaris', 10344),\n",
       " ('Uzbekistan', 10344),\n",
       " ('Asiana', 10344),\n",
       " ('COPA', 10344),\n",
       " ('KLM', 10344),\n",
       " ('Emirates', 10344),\n",
       " ('Etihad', 10344),\n",
       " ('Avianca', 10344),\n",
       " ('Ukraine International', 9442),\n",
       " ('LOT Polish', 9442),\n",
       " ('Iberia', 9442),\n",
       " ('ANA', 9442),\n",
       " ('Qantas', 9442),\n",
       " ('Aerolineas Argentinas', 9442),\n",
       " ('JetBlue Airways', 8465),\n",
       " ('Fly Jamaica', 8195),\n",
       " ('Brussels', 8195),\n",
       " ('Air France', 8195),\n",
       " ('Aeromexico', 8195),\n",
       " ('Korean Air Lines', 8195),\n",
       " ('Norwegian Air Shuttle', 8195),\n",
       " ('Meridiana', 8195),\n",
       " ('Alitalia', 8195),\n",
       " ('Azerbaijan Hava Yollary', 8195),\n",
       " ('Royal Air Maroc', 8195),\n",
       " ('Japan', 8195),\n",
       " ('Cayman Airways', 8195),\n",
       " ('Turkish', 8195),\n",
       " ('Aeroflot Russian', 8195),\n",
       " ('China Eastern', 8195),\n",
       " ('EVA Air', 8195),\n",
       " ('Saudia', 8195),\n",
       " ('Philippine', 8195),\n",
       " ('Wow Air', 2546),\n",
       " ('SAS Scandinavian', 2546),\n",
       " ('Porter', 2546),\n",
       " ('Ethiopian', 2546),\n",
       " ('Allegiant Air', 2546)]"
      ]
     },
     "execution_count": 122,
     "metadata": {},
     "output_type": "execute_result"
    }
   ],
   "source": [
    "dropoff_counts.most_common()"
   ]
  },
  {
   "cell_type": "code",
   "execution_count": 123,
   "metadata": {
    "collapsed": true
   },
   "outputs": [],
   "source": [
    "market_shares = Counter()"
   ]
  },
  {
   "cell_type": "code",
   "execution_count": 124,
   "metadata": {
    "collapsed": false
   },
   "outputs": [],
   "source": [
    "for airline, dropoffs in dropoff_counts.most_common():\n",
    "    market_shares[airline] = dropoffs/float(total_dropoffs) * 100"
   ]
  },
  {
   "cell_type": "code",
   "execution_count": 125,
   "metadata": {
    "collapsed": false
   },
   "outputs": [
    {
     "data": {
      "text/plain": [
       "Counter({'ANA': 0.3223932904499951,\n",
       "         'Aer Lingus': 1.6494913650019922,\n",
       "         'Aeroflot Russian': 0.2798149772545763,\n",
       "         'Aerolineas Argentinas': 0.3223932904499951,\n",
       "         'Aeromexico': 0.2798149772545763,\n",
       "         'Air Berlin': 1.2475411621660104,\n",
       "         'Air Canada': 3.901942178855548,\n",
       "         'Air China': 0.36674712272012255,\n",
       "         'Air Europa': 0.3531917174766733,\n",
       "         'Air France': 0.2798149772545763,\n",
       "         'Air India': 0.4401238629422195,\n",
       "         'Air Jamaica': 0.3531917174766733,\n",
       "         'Air Serbia': 0.3531917174766733,\n",
       "         'Alaska': 1.5365751807700359,\n",
       "         'Alitalia': 0.2798149772545763,\n",
       "         'Allegiant Air': 0.08693214546554622,\n",
       "         'America': 6.5244179967979195,\n",
       "         'American': 5.149483341021559,\n",
       "         'American Eagle': 1.2475411621660104,\n",
       "         'Arik Air': 0.3531917174766733,\n",
       "         'Asiana': 0.3531917174766733,\n",
       "         'Austrian': 0.36674712272012255,\n",
       "         'Avianca': 0.3531917174766733,\n",
       "         'Azerbaijan Hava Yollary': 0.2798149772545763,\n",
       "         'British Airways': 0.4093254359155413,\n",
       "         'Brussels': 0.2798149772545763,\n",
       "         'COPA': 0.3531917174766733,\n",
       "         'Carribean': 0.3531917174766733,\n",
       "         'Cathay Pacific Airways': 0.4093254359155413,\n",
       "         'Cayman Airways': 0.2798149772545763,\n",
       "         'China': 0.3531917174766733,\n",
       "         'China Eastern': 0.2798149772545763,\n",
       "         'China Southern': 0.3531917174766733,\n",
       "         'Delta': 17.11033587699204,\n",
       "         'EVA Air': 0.2798149772545763,\n",
       "         'Egyptair': 0.3531917174766733,\n",
       "         'El Al': 0.4401238629422195,\n",
       "         'Emirates': 0.3531917174766733,\n",
       "         'Ethiopian': 0.08693214546554622,\n",
       "         'Etihad': 0.3531917174766733,\n",
       "         'Finnair': 1.2475411621660104,\n",
       "         'Fly Jamaica': 0.2798149772545763,\n",
       "         'Frontier': 3.6129081602515227,\n",
       "         'Hawaiian': 1.5625592195364462,\n",
       "         'Iberia': 0.3223932904499951,\n",
       "         'Icelandair': 0.4093254359155413,\n",
       "         'Interjet': 0.6022082677045714,\n",
       "         'Japan': 0.2798149772545763,\n",
       "         'JetBlue': 5.1754673797879684,\n",
       "         'JetBlue Airways': 0.28903401860402544,\n",
       "         'KLM': 0.3531917174766733,\n",
       "         'Korean Air Lines': 0.2798149772545763,\n",
       "         'Kuwait Airways': 0.3531917174766733,\n",
       "         'LOT Polish': 0.3223932904499951,\n",
       "         'Lufthansa': 0.36674712272012255,\n",
       "         'Meridiana': 0.2798149772545763,\n",
       "         'Miami Air': 0.3531917174766733,\n",
       "         'Norwegian Air Shuttle': 0.2798149772545763,\n",
       "         'OpenSkies': 0.4093254359155413,\n",
       "         'Pakistan': 0.3531917174766733,\n",
       "         'Philippine': 0.2798149772545763,\n",
       "         'Porter': 0.08693214546554622,\n",
       "         'Qantas': 0.3223932904499951,\n",
       "         'Qatar Airways': 1.5699344526160053,\n",
       "         'Royal Air Maroc': 0.2798149772545763,\n",
       "         'Royal Jordanian': 1.2475411621660104,\n",
       "         'SAS Scandinavian': 0.08693214546554622,\n",
       "         'Saudia': 0.2798149772545763,\n",
       "         'Singapore': 0.3531917174766733,\n",
       "         'South African Airways': 0.3531917174766733,\n",
       "         'Southwest': 3.901942178855548,\n",
       "         'Spirit': 3.699840305717069,\n",
       "         'Sun Country': 0.3531917174766733,\n",
       "         'Swiss International': 0.4401238629422195,\n",
       "         'TAP Air Portugal': 1.6494913650019922,\n",
       "         'Thomas Cook': 0.3531917174766733,\n",
       "         'Turkish': 0.2798149772545763,\n",
       "         'Ukraine International': 0.3223932904499951,\n",
       "         'United': 7.3325181879735215,\n",
       "         'Uzbekistan': 0.3531917174766733,\n",
       "         'Virgin America': 4.255133896332222,\n",
       "         'Virgin Atlantic Airways': 0.4401238629422195,\n",
       "         'Volaris': 0.3531917174766733,\n",
       "         'WestJet': 5.106222135874329,\n",
       "         'Wow Air': 0.08693214546554622,\n",
       "         'XL Airways': 0.3531917174766733})"
      ]
     },
     "execution_count": 125,
     "metadata": {},
     "output_type": "execute_result"
    }
   ],
   "source": [
    "market_shares"
   ]
  },
  {
   "cell_type": "code",
   "execution_count": 126,
   "metadata": {
    "collapsed": false,
    "scrolled": true
   },
   "outputs": [
    {
     "data": {
      "text/plain": [
       "[('Delta', 17.11033587699204),\n",
       " ('United', 7.3325181879735215),\n",
       " ('America', 6.5244179967979195),\n",
       " ('JetBlue', 5.1754673797879684),\n",
       " ('American', 5.149483341021559),\n",
       " ('WestJet', 5.106222135874329),\n",
       " ('Virgin America', 4.255133896332222),\n",
       " ('Southwest', 3.901942178855548),\n",
       " ('Air Canada', 3.901942178855548),\n",
       " ('Spirit', 3.699840305717069),\n",
       " ('Frontier', 3.6129081602515227),\n",
       " ('TAP Air Portugal', 1.6494913650019922),\n",
       " ('Aer Lingus', 1.6494913650019922),\n",
       " ('Qatar Airways', 1.5699344526160053),\n",
       " ('Hawaiian', 1.5625592195364462),\n",
       " ('Alaska', 1.5365751807700359),\n",
       " ('Air Berlin', 1.2475411621660104),\n",
       " ('Finnair', 1.2475411621660104),\n",
       " ('Royal Jordanian', 1.2475411621660104),\n",
       " ('American Eagle', 1.2475411621660104),\n",
       " ('Interjet', 0.6022082677045714),\n",
       " ('Virgin Atlantic Airways', 0.4401238629422195),\n",
       " ('Air India', 0.4401238629422195),\n",
       " ('El Al', 0.4401238629422195),\n",
       " ('Swiss International', 0.4401238629422195),\n",
       " ('OpenSkies', 0.4093254359155413),\n",
       " ('British Airways', 0.4093254359155413),\n",
       " ('Icelandair', 0.4093254359155413),\n",
       " ('Cathay Pacific Airways', 0.4093254359155413),\n",
       " ('Austrian', 0.36674712272012255),\n",
       " ('Air China', 0.36674712272012255),\n",
       " ('Lufthansa', 0.36674712272012255),\n",
       " ('Carribean', 0.3531917174766733),\n",
       " ('China Southern', 0.3531917174766733),\n",
       " ('Egyptair', 0.3531917174766733),\n",
       " ('Sun Country', 0.3531917174766733),\n",
       " ('Pakistan', 0.3531917174766733),\n",
       " ('Thomas Cook', 0.3531917174766733),\n",
       " ('Kuwait Airways', 0.3531917174766733),\n",
       " ('Singapore', 0.3531917174766733),\n",
       " ('China', 0.3531917174766733),\n",
       " ('Miami Air', 0.3531917174766733),\n",
       " ('Air Jamaica', 0.3531917174766733),\n",
       " ('Arik Air', 0.3531917174766733),\n",
       " ('XL Airways', 0.3531917174766733),\n",
       " ('Air Europa', 0.3531917174766733),\n",
       " ('Volaris', 0.3531917174766733),\n",
       " ('Uzbekistan', 0.3531917174766733),\n",
       " ('Air Serbia', 0.3531917174766733),\n",
       " ('Asiana', 0.3531917174766733),\n",
       " ('COPA', 0.3531917174766733),\n",
       " ('KLM', 0.3531917174766733),\n",
       " ('Emirates', 0.3531917174766733),\n",
       " ('South African Airways', 0.3531917174766733),\n",
       " ('Etihad', 0.3531917174766733),\n",
       " ('Avianca', 0.3531917174766733),\n",
       " ('LOT Polish', 0.3223932904499951),\n",
       " ('Iberia', 0.3223932904499951),\n",
       " ('Ukraine International', 0.3223932904499951),\n",
       " ('ANA', 0.3223932904499951),\n",
       " ('Qantas', 0.3223932904499951),\n",
       " ('Aerolineas Argentinas', 0.3223932904499951),\n",
       " ('JetBlue Airways', 0.28903401860402544),\n",
       " ('Fly Jamaica', 0.2798149772545763),\n",
       " ('Air France', 0.2798149772545763),\n",
       " ('Aeromexico', 0.2798149772545763),\n",
       " ('Korean Air Lines', 0.2798149772545763),\n",
       " ('Meridiana', 0.2798149772545763),\n",
       " ('Alitalia', 0.2798149772545763),\n",
       " ('Azerbaijan Hava Yollary', 0.2798149772545763),\n",
       " ('Royal Air Maroc', 0.2798149772545763),\n",
       " ('Norwegian Air Shuttle', 0.2798149772545763),\n",
       " ('Japan', 0.2798149772545763),\n",
       " ('Cayman Airways', 0.2798149772545763),\n",
       " ('Turkish', 0.2798149772545763),\n",
       " ('Aeroflot Russian', 0.2798149772545763),\n",
       " ('Brussels', 0.2798149772545763),\n",
       " ('China Eastern', 0.2798149772545763),\n",
       " ('EVA Air', 0.2798149772545763),\n",
       " ('Saudia', 0.2798149772545763),\n",
       " ('Philippine', 0.2798149772545763),\n",
       " ('Wow Air', 0.08693214546554622),\n",
       " ('SAS Scandinavian', 0.08693214546554622),\n",
       " ('Porter', 0.08693214546554622),\n",
       " ('Ethiopian', 0.08693214546554622),\n",
       " ('Allegiant Air', 0.08693214546554622)]"
      ]
     },
     "execution_count": 126,
     "metadata": {},
     "output_type": "execute_result"
    }
   ],
   "source": [
    "market_shares.most_common()"
   ]
  },
  {
   "cell_type": "code",
   "execution_count": null,
   "metadata": {
    "collapsed": true
   },
   "outputs": [],
   "source": []
  }
 ],
 "metadata": {
  "anaconda-cloud": {},
  "kernelspec": {
   "display_name": "Python [conda env:google-big-query-env]",
   "language": "python",
   "name": "conda-env-google-big-query-env-py"
  },
  "language_info": {
   "codemirror_mode": {
    "name": "ipython",
    "version": 2
   },
   "file_extension": ".py",
   "mimetype": "text/x-python",
   "name": "python",
   "nbconvert_exporter": "python",
   "pygments_lexer": "ipython2",
   "version": "2.7.11"
  }
 },
 "nbformat": 4,
 "nbformat_minor": 1
}
