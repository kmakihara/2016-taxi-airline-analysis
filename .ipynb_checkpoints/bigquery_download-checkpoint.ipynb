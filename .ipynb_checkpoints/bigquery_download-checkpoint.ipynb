{
 "cells": [
  {
   "cell_type": "code",
   "execution_count": 15,
   "metadata": {
    "collapsed": false
   },
   "outputs": [],
   "source": [
    "import uuid\n",
    "import shapefile\n",
    "import json\n",
    "import pandas as pd\n",
    "from shapely.geometry import shape, Point\n",
    "from pyproj import Proj, transform\n",
    "\n",
    "from google.cloud import bigquery\n",
    "from google.cloud.bigquery import SchemaField"
   ]
  },
  {
   "cell_type": "code",
   "execution_count": 3,
   "metadata": {
    "collapsed": false
   },
   "outputs": [],
   "source": [
    "# Instantiates a client\n",
    "bigquery_client = bigquery.Client(project=\"taxianalysis-176617\")"
   ]
  },
  {
   "cell_type": "code",
   "execution_count": 4,
   "metadata": {
    "collapsed": false
   },
   "outputs": [],
   "source": [
    "sf = shapefile.Reader(\"taxi_zones/taxi_zones\")\n",
    "shapes = sf.shapes()"
   ]
  },
  {
   "cell_type": "code",
   "execution_count": 5,
   "metadata": {
    "collapsed": false
   },
   "outputs": [],
   "source": [
    "NEWARK_ID = 1\n",
    "LAGUARDIA_ID = 138\n",
    "JFK_ID = 132"
   ]
  },
  {
   "cell_type": "code",
   "execution_count": 6,
   "metadata": {
    "collapsed": true
   },
   "outputs": [],
   "source": [
    "def get_bounds(shape):\n",
    "    in_proj = Proj(init='epsg:2263', preserve_units = True)\n",
    "    out_proj = Proj(init='epsg:4326')\n",
    "    x1, y1 = shape.bbox[0], shape.bbox[1]\n",
    "    x2, y2 = shape.bbox[2], shape.bbox[3]\n",
    "    new_x1, new_y1 = transform(in_proj, out_proj, x1, y1)\n",
    "    new_x2, new_y2 = transform(in_proj, out_proj, x2, y2)\n",
    "\n",
    "    return [new_x1, new_y1, new_x2, new_y2]"
   ]
  },
  {
   "cell_type": "code",
   "execution_count": 7,
   "metadata": {
    "collapsed": false
   },
   "outputs": [],
   "source": [
    "newark_bounds = get_bounds(shapes[NEWARK_ID - 1])\n",
    "laguardia_bounds = get_bounds(shapes[LAGUARDIA_ID - 1])\n",
    "jfk_bounds = get_bounds(shapes[JFK_ID - 1])"
   ]
  },
  {
   "cell_type": "code",
   "execution_count": 220,
   "metadata": {
    "collapsed": true
   },
   "outputs": [],
   "source": [
    "def check_bounds(shapefile, coords):\n",
    "    in_proj = Proj(init='epsg:4326')\n",
    "    out_proj= Proj(init='epsg:2263', preserve_units = True)\n",
    "    \n",
    "    point = Point(transform(in_proj, out_proj, coords[0], coords[1]))\n",
    "    polygon = shape(shapefile)\n",
    "    return polygon.contains(point)"
   ]
  },
  {
   "cell_type": "code",
   "execution_count": 221,
   "metadata": {
    "collapsed": false
   },
   "outputs": [
    {
     "data": {
      "text/plain": [
       "True"
      ]
     },
     "execution_count": 221,
     "metadata": {},
     "output_type": "execute_result"
    }
   ],
   "source": [
    "check_bounds(shapes[0], [-74.182861328125, 40.6878776550293])"
   ]
  },
  {
   "cell_type": "code",
   "execution_count": 212,
   "metadata": {
    "collapsed": true
   },
   "outputs": [],
   "source": [
    "def export_data_helper(client, table, destinationUri):\n",
    "    # Export data to Google Storage\n",
    "    job_name = str(uuid.uuid4())\n",
    "    print job_name\n",
    "    job = client.extract_table_to_storage(job_name, destination_table, destinationUri)\n",
    "\n",
    "    job.begin()\n",
    "    job.result()  # Wait for job to complete\n",
    "\n",
    "    print('Exported {} to {}'.format(destination_table, destinationUri))"
   ]
  },
  {
   "cell_type": "code",
   "execution_count": 223,
   "metadata": {
    "collapsed": true
   },
   "outputs": [],
   "source": [
    "def export_data(client, query_bounds, dataset, destinationUri):\n",
    "    \n",
    "    # Query string\n",
    "    query_string = \"\"\"\n",
    "    SELECT\n",
    "        *\n",
    "    FROM [tlc_yellow_trips_2016]\n",
    "    WHERE\n",
    "        /* Return values between a pair of */\n",
    "        /* latitude and longitude coordinates */\n",
    "        dropoff_latitude > {} AND\n",
    "        dropoff_latitude < {} AND\n",
    "        dropoff_longitude > {} AND\n",
    "        dropoff_longitude < {}\n",
    "    \"\"\".format(dataset, query_bounds[1], query_bounds[3], query_bounds[0], query_bounds[2])\n",
    "    \n",
    "    query_job = client.run_async_query(str(uuid.uuid4()), query_string)\n",
    "    query_job.begin()\n",
    "    query_job.result()\n",
    "    \n",
    "    destination_table = query_job.destination\n",
    "    destination_table.reload()\n",
    "    \n",
    "    # Export data to Google Storage\n",
    "    export_job_name = str(uuid.uuid4())\n",
    "    export_job = client.extract_table_to_storage(export_job_name, destination_table, destinationUri)\n",
    "\n",
    "    export_job.begin()\n",
    "    export_job.result()  # Wait for job to complete\n",
    "\n",
    "    print('Exported {} to {}'.format(destination_table, destinationUri))"
   ]
  },
  {
   "cell_type": "code",
   "execution_count": 231,
   "metadata": {
    "collapsed": false,
    "scrolled": true
   },
   "outputs": [
    {
     "name": "stdout",
     "output_type": "stream",
     "text": [
      "Exported <google.cloud.bigquery.table.Table object at 0x112913c10> to gs://farallon-taxi-analysis/tlc-green-laguardia-dropoffs-2016-*.json\n"
     ]
    }
   ],
   "source": [
    "export_data(bigquery_client, laguardia_bounds, 'tlc_green_trips_2016', 'gs://farallon-taxi-analysis/tlc-green-laguardia-dropoffs-2016-*.json')"
   ]
  },
  {
   "cell_type": "code",
   "execution_count": 62,
   "metadata": {
    "collapsed": false,
    "scrolled": true
   },
   "outputs": [],
   "source": [
    "newark_coordinates = {\n",
    "    'terminal_a': [40.687794, -74.182307],\n",
    "    'terminal_b': [40.690627, -74.177544],\n",
    "    'terminal_c': [40.695558, -74.178063]\n",
    "}\n",
    "\n",
    "laguardia_coordinates = {\n",
    "    'terminal_a': [40.772375, -73.885976],\n",
    "    'terminal_b': [40.774444, -73.872006],\n",
    "    'terminal_c': [40.770674, -73.865307],\n",
    "    'terminal_d': [40.768628, -73.862134]\n",
    "}\n",
    "\n",
    "jfk_coordinates = {\n",
    "    'terminal_1': [40.643325, -73.789939],\n",
    "    'terminal_2': [40.641595, -73.788767],\n",
    "    'terminal_4': [40.644193, -73.782554],\n",
    "    'terminal_5': [40.645807, -73.776774],\n",
    "    'terminal_7': [40.648798, -73.782922],\n",
    "    'terminal_8': [40.646934, -73.789874]\n",
    "}"
   ]
  },
  {
   "cell_type": "code",
   "execution_count": 64,
   "metadata": {
    "collapsed": false
   },
   "outputs": [],
   "source": []
  },
  {
   "cell_type": "code",
   "execution_count": null,
   "metadata": {
    "collapsed": true
   },
   "outputs": [],
   "source": []
  }
 ],
 "metadata": {
  "anaconda-cloud": {},
  "kernelspec": {
   "display_name": "Python [conda env:google-big-query-env]",
   "language": "python",
   "name": "conda-env-google-big-query-env-py"
  },
  "language_info": {
   "codemirror_mode": {
    "name": "ipython",
    "version": 2
   },
   "file_extension": ".py",
   "mimetype": "text/x-python",
   "name": "python",
   "nbconvert_exporter": "python",
   "pygments_lexer": "ipython2",
   "version": "2.7.11"
  }
 },
 "nbformat": 4,
 "nbformat_minor": 1
}
