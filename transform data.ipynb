{
 "cells": [
  {
   "cell_type": "code",
   "execution_count": null,
   "metadata": {
    "collapsed": true
   },
   "outputs": [],
   "source": [
    "from shapely.geometry import shape, Point\n",
    "from pyproj import Proj, transform\n",
    "from geopy.distance import great_circle\n",
    "\n",
    "import pandas as pd\n",
    "import numpy as np\n",
    "\n",
    "def find_terminal(drop_off_coords, terminal_coords):\n",
    "    min_distance = float('inf')\n",
    "    min_terminal = ''\n",
    "    for terminal, coords in terminal_coords.iteritems():\n",
    "        distance = great_circle(drop_off_coords, coords).meters\n",
    "        if distance < min_distance:\n",
    "            min_distance = distance\n",
    "            min_terminal = terminal\n",
    "    \n",
    "    return min_terminal\n",
    "\n",
    "def add_coords(df):\n",
    "    return list(zip(df['dropoff_latitude'], df['dropoff_longitude']))\n",
    "\n",
    "newark_yellow_dropoffs = pd.DataFrame.from_csv('./2016/tlc-yellow-newark-dropoffs-2016.csv')\n",
    "\n",
    "newark_yellow_dropoffs['coords'] = add_coords(newark_yellow_dropoffs)\n",
    "\n",
    "laguardia_yellow_dropoffs = pd.DataFrame.from_csv('./2016/tlc-yellow-laguardia-dropoffs-2016.csv')\n",
    "\n",
    "laguardia_yellow_dropoffs['coords'] = add_coords(laguardia_yellow_dropoffs)\n",
    "\n",
    "newark_yellow_dropoffs['terminal'] = np.vectorize(find_terminal)(newark_yellow_dropoffs['coords'], newark_coordinates)\n",
    "\n",
    "laguardia_yellow_dropoffs['terminal'] = np.vectorize(find_terminal)(laguardia_yellow_dropoffs['coords'], laguardia_coordinates)\n",
    "\n",
    "jfk_yellow_dropoffs = pd.DataFrame.from_csv('./2016/tlc-yellow-jfk-dropoffs-2016.csv')\n",
    "jfk_yellow_dropoffs['coords'] = add_coords(jfk_yellow_dropoffs)\n",
    "jfk_yellow_dropoffs['terminal'] = np.vectorize(find_terminal)(jfk_yellow_dropoffs['coords'], jfk_coordinates)\n",
    "\n",
    "jfk_green_dropoffs = pd.DataFrame.from_csv('./2016/tlc-green-jfk-dropoffs-2016.csv')\n",
    "jfk_green_dropoffs['coords'] = add_coords(jfk_green_dropoffs)\n",
    "jfk_green_dropoffs['terminal'] = np.vectorize(find_terminal)(jfk_green_dropoffs['coords'], jfk_coordinates)\n",
    "\n",
    "laguardia_green_dropoffs = pd.DataFrame.from_csv('./2016/tlc-green-laguardia-dropoffs-2016.csv')\n",
    "laguardia_green_dropoffs['coords'] = add_coords(laguardia_green_dropoffs)\n",
    "laguardia_green_dropoffs['terminal'] = np.vectorize(find_terminal)(laguardia_green_dropoffs['coords'], laguardia_coordinates)\n",
    "\n",
    "newark_green_dropoffs = pd.DataFrame.from_csv('./2016/tlc-green-newark-dropoffs-2016.csv')\n",
    "newark_green_dropoffs['coords'] = add_coords(newark_green_dropoffs)\n",
    "newark_green_dropoffs['terminal'] = np.vectorize(find_terminal)(newark_green_dropoffs['coords'], newark_coordinates)\n",
    "\n",
    "jfk_green_dropoffs.to_csv('./2016/modified/mod-tlc-green-jfk-dropoffs-2016.csv')\n",
    "jfk_yellow_dropoffs.to_csv('./2016/modified/mod-tlc-yellow-jfk-dropoffs-2016.csv')\n",
    "newark_green_dropoffs.to_csv('./2016/modified/mod-tlc-green-newark-dropoffs-2016.csv')\n",
    "newark_yellow_dropoffs.to_csv('./2016/modified/mod-tlc-yellow-newark-dropoffs-2016.csv')\n",
    "laguardia_green_dropoffs.to_csv('./2016/modified/mod-tlc-green-laguardia-dropoffs-2016.csv')\n",
    "laguardia_yellow_dropoffs.to_csv('./2016/modified/mod-tlc-yellow-laguardia-dropoffs-2016.csv')"
   ]
  }
 ],
 "metadata": {
  "anaconda-cloud": {},
  "kernelspec": {
   "display_name": "Python [conda env:google-big-query-env]",
   "language": "python",
   "name": "conda-env-google-big-query-env-py"
  },
  "language_info": {
   "codemirror_mode": {
    "name": "ipython",
    "version": 2
   },
   "file_extension": ".py",
   "mimetype": "text/x-python",
   "name": "python",
   "nbconvert_exporter": "python",
   "pygments_lexer": "ipython2",
   "version": "2.7.11"
  }
 },
 "nbformat": 4,
 "nbformat_minor": 1
}
